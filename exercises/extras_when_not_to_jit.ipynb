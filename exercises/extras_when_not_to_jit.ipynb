{
 "cells": [
  {
   "cell_type": "markdown",
   "id": "15c17249-6c85-4584-96c5-66374f59f1c9",
   "metadata": {},
   "source": [
    "# When should we NOT jit?\n",
    "\n",
    "[Why can’t we just JIT everything?](https://jax.readthedocs.io/en/latest/jax-101/02-jitting.html#why-can-t-we-just-jit-everything)\n",
    "\n",
    "There are many situations where we shouldn't `jit` and we go through a few below"
   ]
  },
  {
   "cell_type": "markdown",
   "id": "6b4f21f0-5b6a-4642-9b67-99270c73c7e2",
   "metadata": {},
   "source": [
    "## Scenario 1: using python-loops\n",
    "\n",
    "One such scenario is in the above, where we have the `python` `for-loop`.\n",
    "\n",
    "```python\n",
    "def run_simulation(\n",
    "    W: Mat,\n",
    "    V: Vec,\n",
    "\n",
    "    # Neuron Parameters\n",
    "    tau_m: float,\n",
    "    v_reset: float,\n",
    "    v_thresh: float,\n",
    "    membr_R: float,\n",
    "\n",
    "    # How long do we run for? \n",
    "    t_max: float,\n",
    "    dt: float, \n",
    "\n",
    "):\n",
    "    ...\n",
    "```\n",
    "\n",
    "and the reason is that `jax` will take the function and unroll the loop, a concept we briefly touched upon earlier. Unrolling the loop does two things:\n",
    "\n",
    "1) generates a large program\n",
    "2) takes a long time\n",
    "\n",
    "and we'd like to avoid that. We cover how to handle native loops in the next notebook"
   ]
  },
  {
   "cell_type": "markdown",
   "id": "48e6afda-57de-4919-9806-13fc7c453638",
   "metadata": {},
   "source": [
    "## Scenario 2: Boolean indexing\n",
    "\n",
    "The output and input shape should be consistent between runs. If you modifying the shape in between runs, Jax"
   ]
  },
  {
   "cell_type": "code",
   "execution_count": null,
   "id": "2a16f32e-ed18-4bc3-9ec5-2fc0a20da39e",
   "metadata": {},
   "outputs": [],
   "source": [
    "to_filter = jnp.asarray([1, 2, 3, jnp.nan, 10, 20])\n",
    "\n",
    "def is_nan_filter(to_filter_jnp):\n",
    "    ########################################\n",
    "    # Your code here\n",
    "    ########################################\n",
    "    return to_filter_jnp[to_filter_jnp != jnp.nan]\n",
    "\n",
    "jitted_func = jax.jit(is_nan_filter)\n",
    "\n",
    "print(is_nan_filter(to_filter))\n",
    "try:\n",
    "    print(jitted_func(to_filter))\n",
    "except Exception as e:\n",
    "    print(e)\n",
    "\n",
    "\n",
    "def is_nan_jit_compatible(to_filter_jnp, replace_with):\n",
    "    ########################################\n",
    "    # Your code here\n",
    "    ########################################\n",
    "    nan_mask = ~jnp.isnan(to_filter_jnp)\n",
    "    return jnp.where(nan_mask, to_filter_jnp,replace_with)\n",
    "\n",
    "jitted_func = jax.jit(is_nan_jit_compatible)\n",
    "print(jitted_func(to_filter, 0))"
   ]
  },
  {
   "cell_type": "markdown",
   "id": "d73f627e-41f8-4ec4-b8b1-cd9f7fa37a2a",
   "metadata": {},
   "source": [
    "## Scenario 3: Conditional looping\n",
    "\n",
    "Taken directly from the \"Why can’t we just JIT everything?\" URL above."
   ]
  },
  {
   "cell_type": "code",
   "execution_count": null,
   "id": "25a8dbdd-c07f-44d9-a548-dc580663c503",
   "metadata": {},
   "outputs": [],
   "source": [
    "def g(x, n):\n",
    "    i = 0\n",
    "    while i < n:\n",
    "        i += 1\n",
    "    return x + i\n",
    "\n",
    "g_jit = jax.jit(g)\n",
    "\n",
    "try:\n",
    "    g_jit(10, 20)  # Should raise an error. \n",
    "except Exception as e:\n",
    "    print(e)\n"
   ]
  }
 ],
 "metadata": {
  "kernelspec": {
   "display_name": "Python 3 (ipykernel)",
   "language": "python",
   "name": "python3"
  },
  "language_info": {
   "codemirror_mode": {
    "name": "ipython",
    "version": 3
   },
   "file_extension": ".py",
   "mimetype": "text/x-python",
   "name": "python",
   "nbconvert_exporter": "python",
   "pygments_lexer": "ipython3",
   "version": "3.12.2"
  }
 },
 "nbformat": 4,
 "nbformat_minor": 5
}
