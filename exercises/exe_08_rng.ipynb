{
 "cells": [
  {
   "metadata": {},
   "cell_type": "markdown",
   "source": [
    "# Jax's RNG\n",
    "\n",
    "## Lesson Goals:\n",
    "\n",
    "By the end of this lesson you will understand why `jax`'s [random module](https://jax.readthedocs.io/en/latest/jax.random.html) is structured the way it is.\n",
    "Also, you'll get a better understanding of `numpy`s random module, which will show you that you're **probably** using it incorrectly (through no fault of your own)\n",
    "\n",
    "## Core Concepts:\n",
    "\n",
    "- `rng`\n",
    "- `samplers`\n",
    "\n",
    "## Concepts In action:\n",
    "\n",
    "TODO"
   ],
   "id": "29fc9efc95b9620a"
  },
  {
   "metadata": {},
   "cell_type": "markdown",
   "source": [
    "# Foreword\n",
    "\n",
    "## Numpy\n",
    "\n",
    "In [lesson 2](./exe_02_jit.ipynb) we had briefly discussed state and functional programming, and we showed how using stateful programs can lead to bugs or unexpected results (remember the shopping cart?)\n",
    "\n",
    "Well, it turns out that when you run code like this:\n",
    "\n",
    "```python\n",
    "import numpy as np\n",
    "np.random.seed(42)\n",
    "np.random.rand()\n",
    "```\n",
    "\n",
    "you're actually relying on global state of the program. This reliance on global state leads to a whole slew of problems e.g. when you're distributing your program across multiple machines, processes or threads. \n",
    "Randomness has been a pit trap for many a machine learner (see the [The Pit of Reproducibility](#the-pit-of-reproducibility) for examples). \n",
    "\n",
    "When we set the random seed and later run some sampling, this relies on the global state of the program and returns the value.\n",
    "\n",
    "Also, this now goes against Numpy's modern best-practices for random sampling."
   ],
   "id": "b21e32b95ab1095b"
  },
  {
   "metadata": {},
   "cell_type": "markdown",
   "source": [
    "## Jax\n",
    "\n",
    "How does Jax handle the issue of state, then? Well, it relies on:\n",
    "\n",
    "1) explicitly passing in a random seed/key every time you sample (sounds cumbersome, but it's really not)\n",
    "2) "
   ],
   "id": "2f8d2a6bcbcc1584"
  },
  {
   "metadata": {},
   "cell_type": "markdown",
   "source": "## The Pit of Reproducibility\n",
   "id": "745aab4929a43f10"
  }
 ],
 "metadata": {
  "kernelspec": {
   "display_name": "Python 3",
   "language": "python",
   "name": "python3"
  },
  "language_info": {
   "codemirror_mode": {
    "name": "ipython",
    "version": 2
   },
   "file_extension": ".py",
   "mimetype": "text/x-python",
   "name": "python",
   "nbconvert_exporter": "python",
   "pygments_lexer": "ipython2",
   "version": "2.7.6"
  }
 },
 "nbformat": 4,
 "nbformat_minor": 5
}
