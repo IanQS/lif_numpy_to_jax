{
 "cells": [
  {
   "cell_type": "markdown",
   "id": "5a2d138c-105a-4679-99d9-704c47a27570",
   "metadata": {},
   "source": [
    "# Core Concepts\n",
    "\n",
    "`PyTrees`:"
   ]
  },
  {
   "cell_type": "code",
   "execution_count": 1,
   "id": "dbad8c04-4574-47d1-a10f-1d4fe97b1cdf",
   "metadata": {},
   "outputs": [],
   "source": [
    "import numpy as np\n",
    "from typing import TypeAlias\n",
    "import time\n",
    "\n",
    "from hyperparameters import (\n",
    "    _dt,\n",
    "    _t_max,\n",
    "    _tau_m,\n",
    "    _V_reset,\n",
    "    _V_thresh,\n",
    "    _R,\n",
    "    num_simulations\n",
    ")\n",
    "import jax.numpy as jnp\n",
    "import jax\n",
    "from tqdm.notebook import tqdm\n",
    "\n",
    "with open('weights.npy', 'rb') as f:\n",
    "    W = np.load(f)\n",
    "\n",
    "# Initial conditions\n",
    "n_neurons = len(W)# Number of neurons in the network\n",
    "_V = jnp.ones(n_neurons) * _V_reset  # Initial potentials"
   ]
  },
  {
   "cell_type": "markdown",
   "id": "b7f14d01-6637-4daf-850f-7db1e38b7e56",
   "metadata": {},
   "source": [
    "# Type Definitions for Clarity"
   ]
  },
  {
   "cell_type": "code",
   "execution_count": 2,
   "id": "d7932809-ea42-4e5d-9b59-838cd0ac2931",
   "metadata": {},
   "outputs": [],
   "source": [
    "Tensor3D: TypeAlias = jnp.ndarray\n",
    "Mat: TypeAlias = jnp.ndarray\n",
    "Vec: TypeAlias = jnp.ndarray "
   ]
  },
  {
   "cell_type": "code",
   "execution_count": 3,
   "id": "30f9cd28-9033-4a96-b2d2-28ad70328c6a",
   "metadata": {},
   "outputs": [],
   "source": [
    "from collections import namedtuple\n",
    "\n",
    "NeuronParams = namedtuple(\"NeuronParams\", [\"v_thresh\", \"v_reset\", \"W\", \"tau_m\", \"dt\", \"membr_R\"])\n"
   ]
  },
  {
   "cell_type": "markdown",
   "id": "2fd2191f-f7ae-4c72-b901-65e5344e2784",
   "metadata": {},
   "source": [
    "# Run the Simulations"
   ]
  },
  {
   "cell_type": "code",
   "execution_count": 6,
   "id": "2f5e369b-1270-4438-96ca-0dba39067fe9",
   "metadata": {},
   "outputs": [],
   "source": [
    "\n",
    "@jax.jit\n",
    "def run_step(v_prev, params):\n",
    "    spiked = v_prev >= params.v_thresh\n",
    "    V = jnp.where(spiked, params.v_reset, v_prev)\n",
    "\n",
    "    I_syn = params.W @ spiked.astype(jnp.float32)  # Synaptic current from spikes\n",
    "    reset_adjustment = params.v_reset + params.membr_R * I_syn\n",
    "    dV = (params.dt / params.tau_m) * (-V + reset_adjustment)\n",
    "    V = V + dV\n",
    "\n",
    "    V = jnp.where(spiked, params.v_reset, V)\n",
    "    return V, spiked\n",
    "\n",
    "\n",
    "def scan_step(carry, _):\n",
    "    (V, params) = carry\n",
    "    new_V, spike = run_step(V, params)\n",
    "    return (new_V, params), spike\n",
    "\n",
    "def run_simulation(V: jnp.array, t_max: float, params: NeuronParams):\n",
    "    num_steps = int(t_max / params.dt)\n",
    "    # Run the scan over the number of time steps\n",
    "    final_V, accum_spikes = jax.lax.scan(\n",
    "        f=scan_step, \n",
    "        init=(V, params), \n",
    "        xs=jnp.arange(num_steps)\n",
    "    )\n",
    "    return accum_spikes"
   ]
  },
  {
   "cell_type": "code",
   "execution_count": 7,
   "id": "1be8bcfe-aec0-4f4e-8312-099040e23d1c",
   "metadata": {},
   "outputs": [
    {
     "name": "stdout",
     "output_type": "stream",
     "text": [
      "Iteration 0 took: 0.7021489143371582 seconds\n",
      "Iteration 1 took: 0.6558258533477783 seconds\n",
      "Iteration 2 took: 0.65932297706604 seconds\n",
      "Iteration 3 took: 0.6642570495605469 seconds\n",
      "Iteration 4 took: 0.6738781929016113 seconds\n",
      "Iteration 5 took: 0.6349859237670898 seconds\n",
      "Iteration 6 took: 0.6387691497802734 seconds\n",
      "Iteration 7 took: 0.6425280570983887 seconds\n",
      "Iteration 8 took: 0.6432950496673584 seconds\n",
      "Iteration 9 took: 0.6407830715179443 seconds\n",
      "Average Time: 0.6555794239044189\n",
      "S.Dev Time: 0.01959538753031299\n"
     ]
    }
   ],
   "source": [
    "time_arr = []\n",
    "for i in range(num_simulations):\n",
    "    params = NeuronParams(v_thresh=_V_thresh, v_reset=_V_reset, W=jnp.asarray(W), tau_m=_tau_m, dt=_dt, membr_R=_R)\n",
    "    start = time.time()\n",
    "    spike_train = run_simulation(\n",
    "        _V,\n",
    "        _t_max,\n",
    "        params\n",
    "    )\n",
    "    end = time.time()\n",
    "    print(f\"Iteration {i} took: {end - start} seconds\")\n",
    "    time_arr.append(end - start)\n",
    "\n",
    "print(f\"Average Time: {np.mean(time_arr)}\")\n",
    "print(f\"S.Dev Time: {np.std(time_arr)}\")"
   ]
  },
  {
   "cell_type": "code",
   "execution_count": null,
   "id": "a2f1030f-1f6d-4348-901c-3778af9eb95e",
   "metadata": {},
   "outputs": [],
   "source": []
  }
 ],
 "metadata": {
  "kernelspec": {
   "display_name": "Python 3 (ipykernel)",
   "language": "python",
   "name": "python3"
  },
  "language_info": {
   "codemirror_mode": {
    "name": "ipython",
    "version": 3
   },
   "file_extension": ".py",
   "mimetype": "text/x-python",
   "name": "python",
   "nbconvert_exporter": "python",
   "pygments_lexer": "ipython3",
   "version": "3.12.2"
  }
 },
 "nbformat": 4,
 "nbformat_minor": 5
}
