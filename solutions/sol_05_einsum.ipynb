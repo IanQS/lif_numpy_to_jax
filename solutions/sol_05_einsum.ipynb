{
 "cells": [
  {
   "cell_type": "markdown",
   "id": "2ea93709-b1aa-4aeb-b4e8-2277e04eb5dc",
   "metadata": {},
   "source": [
    "# Einstein Notation\n",
    "\n",
    "## Goals:\n",
    "\n",
    "- understand the various matrix operations `einsum` can replace\n",
    "\n",
    "## Concepts:\n",
    "\n",
    "- `einsum`"
   ]
  },
  {
   "cell_type": "code",
   "execution_count": null,
   "id": "3216b794-7755-4e2a-8f37-47fef521ccb8",
   "metadata": {},
   "outputs": [],
   "source": []
  }
 ],
 "metadata": {
  "kernelspec": {
   "display_name": "Python 3 (ipykernel)",
   "language": "python",
   "name": "python3"
  },
  "language_info": {
   "codemirror_mode": {
    "name": "ipython",
    "version": 3
   },
   "file_extension": ".py",
   "mimetype": "text/x-python",
   "name": "python",
   "nbconvert_exporter": "python",
   "pygments_lexer": "ipython3",
   "version": "3.12.2"
  }
 },
 "nbformat": 4,
 "nbformat_minor": 5
}
