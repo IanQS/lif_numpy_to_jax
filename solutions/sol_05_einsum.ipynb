{
 "cells": [
  {
   "cell_type": "markdown",
   "id": "2ea93709-b1aa-4aeb-b4e8-2277e04eb5dc",
   "metadata": {},
   "source": [
    "# Einstein Notation\n",
    "\n",
    "## Goals:\n",
    "\n",
    "- understand the various matrix operations `einsum` can replace\n",
    "\n",
    "## Concepts:\n",
    "\n",
    "- `einsum`"
   ]
  },
  {
   "cell_type": "markdown",
   "id": "90bdd7db-d0c9-4545-93b6-1c0092e8cc24",
   "metadata": {},
   "source": [
    "# Matrix Operations:\n",
    "\n",
    "- dot product\n",
    "- matrix-vector\n",
    "- matrix-matrix\n",
    "- hadamard product\n",
    "- outer product\n",
    "- batched matrix mult\n",
    "- transpose\n",
    "- summing along an axis after multiplication\n",
    "- trace\n",
    "- diag"
   ]
  },
  {
   "cell_type": "code",
   "execution_count": 1,
   "id": "528f55c5-8f79-4022-91fe-adbb070ee8ea",
   "metadata": {},
   "outputs": [],
   "source": [
    "import numpy as np\n",
    "np.random.seed(42)\n",
    "\n",
    "import jax.numpy as jnp"
   ]
  },
  {
   "cell_type": "code",
   "execution_count": 2,
   "id": "90280239-5cbd-4464-99ee-4ee52e5efab6",
   "metadata": {},
   "outputs": [],
   "source": [
    "NUM_FEAT = 10\n",
    "NUM_SAMPLES = 100\n",
    "\n",
    "v1 = jnp.asarray(np.random.rand(NUM_FEAT))\n",
    "v2 = jnp.asarray(np.random.rand(NUM_FEAT))\n",
    "\n",
    "M1 = jnp.asarray(np.random.rand(NUM_FEAT, NUM_SAMPLES))\n",
    "M2 = jnp.asarray(np.random.rand(NUM_SAMPLES, NUM_FEAT))\n",
    "\n",
    "BATCH_SIZE = 128\n",
    "NUM_CHANNELS = 3\n",
    "HEIGHT = 32\n",
    "WIDTH = 32\n",
    "\n",
    "LEARNED_FILTERS = 5\n",
    "T1 = jnp.asarray(np.random.rand(BATCH_SIZE, HEIGHT, WIDTH, NUM_CHANNELS))\n",
    "T2 = jnp.asarray(np.random.rand(LEARNED_FILTERS, HEIGHT, WIDTH, NUM_CHANNELS))"
   ]
  },
  {
   "cell_type": "code",
   "execution_count": 62,
   "id": "3807b764-f895-4f40-ba7e-7b70c094caa6",
   "metadata": {},
   "outputs": [
    {
     "name": "stdout",
     "output_type": "stream",
     "text": [
      "All vector dot-products equivalent? True\n"
     ]
    }
   ],
   "source": [
    "# vector-vector dot-product\n",
    "def vv_dot():\n",
    "    res = jnp.dot(v1, v2)\n",
    "    res2 = v1 @ v2\n",
    "    res3 = jnp.matmul(v1, v2)\n",
    "    \n",
    "    res_ein = jnp.einsum(\"j, j ->\", v1, v2)\n",
    "    print(\"All vector dot-products equivalent?\",\n",
    "        jnp.all(res == res2 == res3 == res_ein)\n",
    "    )\n",
    "\n",
    "vv_dot()"
   ]
  },
  {
   "cell_type": "code",
   "execution_count": 63,
   "id": "37ded86c-9e62-4495-beab-eab0a9f58e64",
   "metadata": {},
   "outputs": [
    {
     "name": "stdout",
     "output_type": "stream",
     "text": [
      "Outer-products equivalent? True\n"
     ]
    }
   ],
   "source": [
    "# vector-vector outer-product\n",
    "\n",
    "def vv_outer():\n",
    "    res = jnp.outer(v1, v2)\n",
    "    \n",
    "    res_ein = jnp.einsum(\"i, j ->ij\", v1, v2)\n",
    "    print(\n",
    "        \"Outer-products equivalent?\",\n",
    "        jnp.allclose(res, res_ein))\n",
    "\n",
    "vv_outer()"
   ]
  },
  {
   "cell_type": "code",
   "execution_count": 27,
   "id": "65e3b4e2-744f-48a3-a816-e62b4b99999b",
   "metadata": {},
   "outputs": [
    {
     "name": "stdout",
     "output_type": "stream",
     "text": [
      "True\n",
      "True\n",
      "True\n"
     ]
    }
   ],
   "source": [
    "def mm_mult():\n",
    "    # Matrix mult\n",
    "    res_mm = jnp.dot(M1, M2)\n",
    "    res_ein_mm = np.einsum(\"ij, jl ->il\", M1, M2)\n",
    "    print(\"Matrix-mult equivalent?\",jnp.allclose(res_mm, res_ein_mm))\n",
    "\n",
    "    # Matrix mult then sum along the 0-th axis\n",
    "    res_mm = np.sum(jnp.dot(M1, M2), axis=0)\n",
    "    res_ein_mm = np.einsum(\"ij, jl ->l\", M1, M2)\n",
    "    print(\"Matrix-mult then sum-rows equivalent?\",jnp.allclose(res_mm, res_ein_mm))\n",
    "\n",
    "    # Matrix mult then sum along the 1st axis\n",
    "    res_mm = np.sum(jnp.dot(M1, M2), axis=1)\n",
    "    res_ein_mm = np.einsum(\"ij, jl ->i\", M1, M2)\n",
    "    print(\"Matrix-mult then sum-cols equivalent?\",jnp.allclose(res_mm, res_ein_mm))\n",
    "\n",
    "mm_mult()"
   ]
  },
  {
   "cell_type": "code",
   "execution_count": 65,
   "id": "fd0ccc9c-7c64-49fa-962a-2ddf91b39b69",
   "metadata": {},
   "outputs": [
    {
     "name": "stdout",
     "output_type": "stream",
     "text": [
      "Non-square matrix trace equivalent? False\n",
      "Square matrix trace equivalent? True\n",
      "Matrix Transpose equivalent? True\n",
      "\n",
      " dimensions in single operand for collapsing index 'i' don't match (10 != 100)\n",
      "Diag on square matrix equivalent? True\n"
     ]
    }
   ],
   "source": [
    "def trace_transpose_diagonal():\n",
    "\n",
    "    #############################################\n",
    "    # Note: the einsum trace is only defined when the matrix is square\n",
    "    #############################################\n",
    "    print(\n",
    "        \"Non-square matrix trace equivalent?\",\n",
    "        jnp.allclose(\n",
    "            jnp.trace(M1), \n",
    "            np.einsum(\"ij->\", M1)\n",
    "        )\n",
    "    )\n",
    "\n",
    "    print(\n",
    "        \"Square matrix trace equivalent?\",\n",
    "        jnp.allclose(\n",
    "            jnp.trace(M1 @ M1.T), \n",
    "            np.einsum(\"ii->\", M1 @ M1.T)\n",
    "        )\n",
    "    )\n",
    "\n",
    "    #############################################\n",
    "    # Transpose\n",
    "    print(\n",
    "        \"Matrix Transpose equivalent?\", jnp.allclose(\n",
    "        M1.T, \n",
    "        np.einsum(\"ij -> ji\", M1)\n",
    "    ))\n",
    "\n",
    "    \n",
    "    #############################################\n",
    "    # Diagonal\n",
    "    # Note: the einsum diagonal is only defined when the matrix is square\n",
    "    try:\n",
    "        print(\n",
    "            \"Diag on non-square matrix equivalent?\",\n",
    "            jnp.allclose(\n",
    "            jnp.diag(M1), \n",
    "            np.einsum(\"ii -> i\", M1)\n",
    "        ))\n",
    "    except Exception as e:\n",
    "        print(\"\\n\", e)\n",
    "        # We get the expected result\n",
    "        print(\n",
    "            \"Diag on square matrix equivalent?\",\n",
    "            jnp.allclose(\n",
    "            jnp.diag(M1 @ M1.T), \n",
    "            np.einsum(\"ii -> i\", M1 @ M1.T)\n",
    "        ))\n",
    "\n",
    "\n",
    "trace_transpose_diagonal()"
   ]
  },
  {
   "cell_type": "code",
   "execution_count": 70,
   "id": "9ac755ec-d46b-4b6a-805b-bd4a227f579c",
   "metadata": {},
   "outputs": [
    {
     "name": "stdout",
     "output_type": "stream",
     "text": [
      "Tensor Contraction Equivalent? True\n"
     ]
    }
   ],
   "source": [
    "def tensor_contraction():\n",
    "    # Note: for more interesting examples, check out how attention is implemented!\n",
    "\n",
    "    #############################################\n",
    "    # Apply our learned filters (T2) to our data (T1)\n",
    "    #############################################\n",
    "    T1_reshaped = T1.reshape(BATCH_SIZE, HEIGHT * WIDTH * NUM_CHANNELS)\n",
    "    \n",
    "    # Flatten height, width, and channels for T2, but need to transpose to match the matrix multiplication requirements\n",
    "    T2_reshaped = T2.reshape(LEARNED_FILTERS, HEIGHT * WIDTH * NUM_CHANNELS).transpose()\n",
    "    \n",
    "    # Matrix multiplication\n",
    "    res_tc = jnp.matmul(T1_reshaped, T2_reshaped).reshape(BATCH_SIZE, LEARNED_FILTERS)\n",
    "\n",
    "    # Einsum\n",
    "    res_ein = jnp.einsum('bhwc,fhwc->bf', T1, T2)\n",
    "\n",
    "    print(\n",
    "        \"Tensor Contraction Equivalent?\",\n",
    "        jnp.allclose(\n",
    "            res_tc,\n",
    "            res_ein\n",
    "    ))\n",
    "\n",
    "tensor_contraction()"
   ]
  },
  {
   "cell_type": "code",
   "execution_count": null,
   "id": "1a08963f-9472-4940-9e3b-5a67d64bb68d",
   "metadata": {},
   "outputs": [],
   "source": []
  }
 ],
 "metadata": {
  "kernelspec": {
   "display_name": "Python 3 (ipykernel)",
   "language": "python",
   "name": "python3"
  },
  "language_info": {
   "codemirror_mode": {
    "name": "ipython",
    "version": 3
   },
   "file_extension": ".py",
   "mimetype": "text/x-python",
   "name": "python",
   "nbconvert_exporter": "python",
   "pygments_lexer": "ipython3",
   "version": "3.12.2"
  }
 },
 "nbformat": 4,
 "nbformat_minor": 5
}
