{
 "cells": [
  {
   "cell_type": "markdown",
   "id": "5a2d138c-105a-4679-99d9-704c47a27570",
   "metadata": {},
   "source": [
    "# namedtuple\n",
    "\n",
    "## Goals:\n",
    "\n",
    "- understand how to use `namedtuple` to keep your code clean\n",
    "\n",
    "## Concepts:\n",
    "\n",
    "- namedtuple\n",
    "- scan"
   ]
  },
  {
   "cell_type": "code",
   "execution_count": null,
   "id": "dbad8c04-4574-47d1-a10f-1d4fe97b1cdf",
   "metadata": {},
   "outputs": [],
   "source": [
    "import numpy as np\n",
    "from typing import TypeAlias\n",
    "import time\n",
    "\n",
    "from hyperparameters import (\n",
    "    _dt,\n",
    "    _t_max,\n",
    "    _tau_m,\n",
    "    _V_reset,\n",
    "    _V_thresh,\n",
    "    _R,\n",
    "    num_simulations\n",
    ")\n",
    "import jax.numpy as jnp\n",
    "import jax\n",
    "from tqdm.notebook import tqdm\n",
    "\n",
    "with open('weights.npy', 'rb') as f:\n",
    "    W = np.load(f)\n",
    "\n",
    "# Initial conditions\n",
    "n_neurons = len(W)# Number of neurons in the network\n",
    "_V = jnp.ones(n_neurons) * _V_reset  # Initial potentials"
   ]
  },
  {
   "cell_type": "markdown",
   "id": "1618d0d1-c48d-4bb8-afc7-bf8eecec8ee0",
   "metadata": {},
   "source": [
    "# Type Definitions for Clarity"
   ]
  },
  {
   "cell_type": "code",
   "execution_count": null,
   "id": "b0667f66-6526-4090-81e4-a5f2332d3b0e",
   "metadata": {},
   "outputs": [],
   "source": [
    "Tensor3D: TypeAlias = jnp.ndarray\n",
    "Mat: TypeAlias = jnp.ndarray\n",
    "Vec: TypeAlias = jnp.ndarray "
   ]
  },
  {
   "cell_type": "markdown",
   "id": "12de8959-9a73-49b5-be5f-6d374eddfc5e",
   "metadata": {},
   "source": [
    "# Adding Functionality:\n",
    "\n",
    "Our LIF code is fine, but one way we can make this slightly more biologically plausible is by adding a constant input to the neurons, a sort of environmental noise or ongoing background synaptic activity that's not exactly a part of our modeling process.\n",
    "\n",
    "This is a simple change and involves adding a term to `dV = (-V + ... + I_bg)`"
   ]
  },
  {
   "cell_type": "code",
   "execution_count": null,
   "id": "b1105cd9-0125-4967-bb36-df2a9356887b",
   "metadata": {},
   "outputs": [],
   "source": [
    "def run_step(v_prev, v_thresh, v_reset, W, tau_m, dt, membr_R,\n",
    "            I_bg\n",
    "            ):\n",
    "    spiked = v_prev >= v_thresh\n",
    "    V = jnp.where(spiked, v_reset, v_prev)\n",
    "\n",
    "    I_syn = W @ spiked.astype(jnp.float32)  # Synaptic current from spikes\n",
    "    dV = (dt / tau_m) * (-V + v_reset + membr_R * I_syn + I_bg)\n",
    "    V = V + dV\n",
    "\n",
    "    V = jnp.where(spiked, v_reset, V)\n",
    "    return V, spiked\n",
    "\n",
    "\n",
    "def scan_step(carry, _):\n",
    "    (V, v_thresh, v_reset, W, tau_m, dt, membr_R, I_bg) = carry\n",
    "    new_V, spike = run_step(V, v_thresh, v_reset, W, tau_m, dt, membr_R, I_bg)\n",
    "    return (new_V, v_thresh, v_reset, W, tau_m, dt, membr_R, I_bg), spike\n",
    "\n",
    "def run_simulation(W, V, tau_m, v_reset, v_thresh, membr_R, t_max, dt, I_bg=0):\n",
    "    num_steps = int(t_max / dt)\n",
    "    # Run the scan over the number of time steps\n",
    "    final_V, accum_spikes = jax.lax.scan(\n",
    "        f=scan_step, \n",
    "        init=(V, v_thresh, v_reset, W, tau_m, dt, membr_R, I_bg), \n",
    "        xs=jnp.arange(num_steps)\n",
    "    )\n",
    "    return accum_spikes"
   ]
  },
  {
   "cell_type": "code",
   "execution_count": null,
   "id": "53d5f691-0b8f-4888-b3fc-ff0bc907f2a6",
   "metadata": {},
   "outputs": [],
   "source": [
    "time_arr = []\n",
    "for i in range(num_simulations):\n",
    "    start = time.time()\n",
    "    spike_train = run_simulation(\n",
    "        jnp.asarray(W),\n",
    "        _V,\n",
    "        _tau_m, _V_reset, _V_thresh, _R,\n",
    "        _t_max, _dt\n",
    "    )\n",
    "    end = time.time()\n",
    "    np.asarray(spike_train)\n",
    "    print(f\"Iteration {i} took: {end - start} seconds\")\n",
    "    time_arr.append(end - start)\n",
    "\n",
    "print(f\"Average Time: {np.mean(time_arr)}\")\n",
    "print(f\"S.Dev Time: {np.std(time_arr)}\")"
   ]
  },
  {
   "cell_type": "markdown",
   "id": "3f5d4b66-2961-4eaa-83a7-85371dcd1985",
   "metadata": {},
   "source": [
    "# Simplifying the code using a NamedTuple\n",
    "\n",
    "Modifying the code above was more involved than it should have been, and can easily grow out of hand once we have many more parameters. \n",
    "\n",
    "Some of my own code, that inspired this tutorial, has over 15 parameters and at this point I'm afraid to touch it. I wish that someone had sat me down and talked to me about using these containers"
   ]
  },
  {
   "cell_type": "code",
   "execution_count": null,
   "id": "30f9cd28-9033-4a96-b2d2-28ad70328c6a",
   "metadata": {},
   "outputs": [],
   "source": [
    "from collections import namedtuple\n",
    "\n",
    "NeuronParams = namedtuple(\"NeuronParams\", \n",
    "                          [\"v_thresh\", \"v_reset\", \"W\", \"tau_m\", \"dt\", \"membr_R\", \"I_bg\"]\n",
    "                         )\n"
   ]
  },
  {
   "cell_type": "markdown",
   "id": "2fd2191f-f7ae-4c72-b901-65e5344e2784",
   "metadata": {},
   "source": [
    "# Run the Simulations"
   ]
  },
  {
   "cell_type": "code",
   "execution_count": null,
   "id": "2f5e369b-1270-4438-96ca-0dba39067fe9",
   "metadata": {},
   "outputs": [],
   "source": [
    "\n",
    "@jax.jit\n",
    "def run_step(v_prev, params):\n",
    "    spiked = v_prev >= params.v_thresh\n",
    "    V = jnp.where(spiked, params.v_reset, v_prev)\n",
    "\n",
    "    I_syn = params.W @ spiked.astype(jnp.float32)  # Synaptic current from spikes\n",
    "    dV = (params.dt / params.tau_m) * (\n",
    "        -V + params.v_reset + params.membr_R * I_syn + params.I_bg\n",
    "    )\n",
    "    V = V + dV\n",
    "\n",
    "    V = jnp.where(spiked, params.v_reset, V)\n",
    "    return V, spiked\n",
    "\n",
    "\n",
    "def scan_step(carry, _):\n",
    "    (V, params) = carry\n",
    "    new_V, spike = run_step(V, params)\n",
    "    return (new_V, params), spike\n",
    "\n",
    "def run_simulation(V: jnp.array, t_max: float, params: NeuronParams):\n",
    "    num_steps = int(t_max / params.dt)\n",
    "    # Run the scan over the number of time steps\n",
    "    final_V, accum_spikes = jax.lax.scan(\n",
    "        f=scan_step, \n",
    "        init=(V, params), \n",
    "        xs=jnp.arange(num_steps)\n",
    "    )\n",
    "    return accum_spikes"
   ]
  },
  {
   "cell_type": "code",
   "execution_count": null,
   "id": "1be8bcfe-aec0-4f4e-8312-099040e23d1c",
   "metadata": {},
   "outputs": [],
   "source": [
    "time_arr = []\n",
    "for i in range(num_simulations):\n",
    "    params = NeuronParams(v_thresh=_V_thresh, v_reset=_V_reset, \n",
    "                          W=jnp.asarray(W), tau_m=_tau_m, dt=_dt, membr_R=_R,\n",
    "                          I_bg=0.0\n",
    "                         )\n",
    "    start = time.time()\n",
    "    spike_train = run_simulation(\n",
    "        _V,\n",
    "        _t_max,\n",
    "        params\n",
    "    )\n",
    "    end = time.time()\n",
    "    np.asarray(spike_train)\n",
    "    print(f\"Iteration {i} took: {end - start} seconds\")\n",
    "    time_arr.append(end - start)\n",
    "\n",
    "print(f\"Average Time: {np.mean(time_arr)}\")\n",
    "print(f\"S.Dev Time: {np.std(time_arr)}\")"
   ]
  }
 ],
 "metadata": {
  "kernelspec": {
   "display_name": "Python 3 (ipykernel)",
   "language": "python",
   "name": "python3"
  },
  "language_info": {
   "codemirror_mode": {
    "name": "ipython",
    "version": 3
   },
   "file_extension": ".py",
   "mimetype": "text/x-python",
   "name": "python",
   "nbconvert_exporter": "python",
   "pygments_lexer": "ipython3",
   "version": "3.12.2"
  }
 },
 "nbformat": 4,
 "nbformat_minor": 5
}
