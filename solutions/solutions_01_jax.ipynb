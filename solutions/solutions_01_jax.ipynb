{
 "cells": [
  {
   "cell_type": "code",
   "execution_count": 3,
   "id": "dbad8c04-4574-47d1-a10f-1d4fe97b1cdf",
   "metadata": {},
   "outputs": [
    {
     "ename": "SyntaxError",
     "evalue": "invalid syntax (4099582326.py, line 5)",
     "output_type": "error",
     "traceback": [
      "\u001b[0;36m  Cell \u001b[0;32mIn[3], line 5\u001b[0;36m\u001b[0m\n\u001b[0;31m    from ../hyperparameters import (\u001b[0m\n\u001b[0m           ^\u001b[0m\n\u001b[0;31mSyntaxError\u001b[0m\u001b[0;31m:\u001b[0m invalid syntax\n"
     ]
    }
   ],
   "source": [
    "import numpy as np\n",
    "from typing import TypeAlias\n",
    "import time\n",
    "\n",
    "from hyperparameters import (\n",
    "    _dt,\n",
    "    _t_max,\n",
    "    _tau_m,\n",
    "    _V_reset,\n",
    "    _V_thresh,\n",
    "    _R,\n",
    "    num_simulations\n",
    ")\n",
    "\n",
    "with open('weights.npy', 'rb') as f:\n",
    "    W = np.load(f)\n",
    "\n",
    "\n",
    "# Initial conditions\n",
    "n_neurons = len(W)# Number of neurons in the network\n",
    "_V = np.ones(n_neurons) * _V_reset  # Initial potentials\n",
    "_spike_train = np.zeros((n_neurons, len(np.arange(0, _t_max, _dt))))\n",
    "\n",
    "from tqdm.notebook import tqdm"
   ]
  },
  {
   "cell_type": "markdown",
   "id": "b7f14d01-6637-4daf-850f-7db1e38b7e56",
   "metadata": {},
   "source": [
    "# Type Definitions for Clarity"
   ]
  },
  {
   "cell_type": "code",
   "execution_count": 3,
   "id": "d7932809-ea42-4e5d-9b59-838cd0ac2931",
   "metadata": {},
   "outputs": [],
   "source": [
    "Tensor3D: TypeAlias = np.ndarray\n",
    "Mat: TypeAlias = np.ndarray\n",
    "Vec: TypeAlias = np.ndarray \n",
    "CurrentArray: TypeAlias = np.ndarray"
   ]
  },
  {
   "cell_type": "markdown",
   "id": "2fd2191f-f7ae-4c72-b901-65e5344e2784",
   "metadata": {},
   "source": [
    "# Run the Simulations"
   ]
  },
  {
   "cell_type": "code",
   "execution_count": 4,
   "id": "07b4fcc6-6cab-4f63-9672-9b4ea02d13de",
   "metadata": {},
   "outputs": [
    {
     "name": "stdout",
     "output_type": "stream",
     "text": [
      "Iteration 0 took: 5.18075704574585 seconds\n",
      "Iteration 1 took: 5.004680871963501 seconds\n",
      "Iteration 2 took: 4.873786211013794 seconds\n",
      "Iteration 3 took: 5.169120788574219 seconds\n",
      "Iteration 4 took: 4.585036039352417 seconds\n",
      "Iteration 5 took: 4.613517999649048 seconds\n",
      "Iteration 6 took: 4.438601970672607 seconds\n",
      "Iteration 7 took: 4.990131855010986 seconds\n",
      "Iteration 8 took: 5.531838893890381 seconds\n",
      "Iteration 9 took: 5.351461887359619 seconds\n",
      "Average Time: 4.973893356323242\n",
      "S.Dev Time: 0.3337091298627308\n"
     ]
    }
   ],
   "source": [
    "def run_simulation(\n",
    "    W: Mat,\n",
    "\n",
    "    spike_train: Mat,\n",
    "    V: Vec,\n",
    "\n",
    "    # Neuron Parameters\n",
    "    tau_m: float,\n",
    "    v_reset: float,\n",
    "    v_thresh: float,\n",
    "    membr_R: float,\n",
    "\n",
    "    # How long do we run for? \n",
    "    t_max: float,\n",
    "    dt: float, \n",
    "\n",
    "):\n",
    "    # Simulation\n",
    "\n",
    "    for i, t in enumerate(np.arange(0, t_max, dt)):\n",
    "        if i == 0:\n",
    "            continue\n",
    "    \n",
    "        fired = V >= v_thresh\n",
    "        V[fired] = v_reset  # Reset voltage if threshold is crossed\n",
    "    \n",
    "        # Record spike times\n",
    "        spike_train[fired, i] = 1\n",
    "    \n",
    "        # Update voltages\n",
    "        I_syn = W.dot(spike_train[:, i-1])  # Synaptic current from spikes\n",
    "        dV = (dt / tau_m) * (-V + v_reset + membr_R * I_syn)\n",
    "        V += dV\n",
    "    \n",
    "        # No self-inputs; neurons cannot spike themselves in this timestep\n",
    "        V[fired] = v_reset\n",
    "    return spike_train\n",
    "\n",
    "time_arr = []\n",
    "for i in range(num_simulations):\n",
    "    start = time.time()\n",
    "    spike_train = run_simulation(\n",
    "        W,\n",
    "        _spike_train, _V,\n",
    "        _tau_m, _V_reset, _V_thresh, _R,\n",
    "        _t_max, _dt\n",
    "    )\n",
    "    end = time.time()\n",
    "    print(f\"Iteration {i} took: {end - start} seconds\")\n",
    "    time_arr.append(end - start)\n",
    "\n",
    "print(f\"Average Time: {np.mean(time_arr)}\")\n",
    "print(f\"S.Dev Time: {np.std(time_arr)}\")"
   ]
  },
  {
   "cell_type": "markdown",
   "id": "1b55f901-33f4-4811-8797-da3c4b4a2f50",
   "metadata": {},
   "source": [
    "# Save the final spikes for comparison"
   ]
  },
  {
   "cell_type": "code",
   "execution_count": 5,
   "id": "be5ff903-8f79-4521-a659-b0bc438e977d",
   "metadata": {},
   "outputs": [],
   "source": [
    "with open('spike_res.npy', 'wb') as f:\n",
    "    np.save(f, spike_train)"
   ]
  }
 ],
 "metadata": {
  "kernelspec": {
   "display_name": "Python 3 (ipykernel)",
   "language": "python",
   "name": "python3"
  },
  "language_info": {
   "codemirror_mode": {
    "name": "ipython",
    "version": 3
   },
   "file_extension": ".py",
   "mimetype": "text/x-python",
   "name": "python",
   "nbconvert_exporter": "python",
   "pygments_lexer": "ipython3",
   "version": "3.12.2"
  }
 },
 "nbformat": 4,
 "nbformat_minor": 5
}
