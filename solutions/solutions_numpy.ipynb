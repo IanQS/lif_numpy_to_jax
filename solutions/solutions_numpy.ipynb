{
 "cells": [
  {
   "cell_type": "code",
   "execution_count": 4,
   "id": "dbad8c04-4574-47d1-a10f-1d4fe97b1cdf",
   "metadata": {},
   "outputs": [],
   "source": [
    "import numpy as np\n",
    "from typing import TypeAlias\n",
    "import time\n",
    "\n",
    "from hyperparameters import (\n",
    "    _dt,\n",
    "    _t_max,\n",
    "    _tau_m,\n",
    "    _V_reset,\n",
    "    _V_thresh,\n",
    "    _R,\n",
    "    num_simulations\n",
    ")\n",
    "\n",
    "with open('weights.npy', 'rb') as f:\n",
    "    W = np.load(f)\n",
    "\n",
    "\n",
    "# Initial conditions\n",
    "n_neurons = len(W)# Number of neurons in the network\n",
    "_V = np.ones(n_neurons) * _V_reset  # Initial potentials\n",
    "_spike_train = np.zeros((n_neurons, len(np.arange(0, _t_max, _dt))))\n",
    "\n",
    "from tqdm.notebook import tqdm"
   ]
  },
  {
   "cell_type": "markdown",
   "id": "b7f14d01-6637-4daf-850f-7db1e38b7e56",
   "metadata": {},
   "source": [
    "# Type Definitions for Clarity"
   ]
  },
  {
   "cell_type": "code",
   "execution_count": 5,
   "id": "d7932809-ea42-4e5d-9b59-838cd0ac2931",
   "metadata": {},
   "outputs": [],
   "source": [
    "Tensor3D: TypeAlias = np.ndarray\n",
    "Mat: TypeAlias = np.ndarray\n",
    "Vec: TypeAlias = np.ndarray \n",
    "CurrentArray: TypeAlias = np.ndarray"
   ]
  },
  {
   "cell_type": "markdown",
   "id": "2fd2191f-f7ae-4c72-b901-65e5344e2784",
   "metadata": {},
   "source": [
    "# Run the Simulations"
   ]
  },
  {
   "cell_type": "code",
   "execution_count": 6,
   "id": "07b4fcc6-6cab-4f63-9672-9b4ea02d13de",
   "metadata": {},
   "outputs": [
    {
     "ename": "KeyboardInterrupt",
     "evalue": "",
     "output_type": "error",
     "traceback": [
      "\u001b[0;31m---------------------------------------------------------------------------\u001b[0m",
      "\u001b[0;31mKeyboardInterrupt\u001b[0m                         Traceback (most recent call last)",
      "Cell \u001b[0;32mIn[6], line 42\u001b[0m\n\u001b[1;32m     40\u001b[0m \u001b[38;5;28;01mfor\u001b[39;00m i \u001b[38;5;129;01min\u001b[39;00m \u001b[38;5;28mrange\u001b[39m(num_simulations):\n\u001b[1;32m     41\u001b[0m     start \u001b[38;5;241m=\u001b[39m time\u001b[38;5;241m.\u001b[39mtime()\n\u001b[0;32m---> 42\u001b[0m     spike_train \u001b[38;5;241m=\u001b[39m run_simulation(\n\u001b[1;32m     43\u001b[0m         W,\n\u001b[1;32m     44\u001b[0m         _spike_train, _V,\n\u001b[1;32m     45\u001b[0m         _tau_m, _V_reset, _V_thresh, _R,\n\u001b[1;32m     46\u001b[0m         _t_max, _dt\n\u001b[1;32m     47\u001b[0m     )\n\u001b[1;32m     48\u001b[0m     end \u001b[38;5;241m=\u001b[39m time\u001b[38;5;241m.\u001b[39mtime()\n\u001b[1;32m     49\u001b[0m     \u001b[38;5;66;03m#print(f\"Iteration {i} took: {end - start} seconds\")\u001b[39;00m\n",
      "Cell \u001b[0;32mIn[6], line 31\u001b[0m, in \u001b[0;36mrun_simulation\u001b[0;34m(W, spike_train, V, tau_m, v_reset, v_thresh, membr_R, t_max, dt)\u001b[0m\n\u001b[1;32m     28\u001b[0m spike_train[fired, i] \u001b[38;5;241m=\u001b[39m \u001b[38;5;241m1\u001b[39m\n\u001b[1;32m     30\u001b[0m \u001b[38;5;66;03m# Update voltages\u001b[39;00m\n\u001b[0;32m---> 31\u001b[0m I_syn \u001b[38;5;241m=\u001b[39m W\u001b[38;5;241m.\u001b[39mdot(spike_train[:, i\u001b[38;5;241m-\u001b[39m\u001b[38;5;241m1\u001b[39m])  \u001b[38;5;66;03m# Synaptic current from spikes\u001b[39;00m\n\u001b[1;32m     32\u001b[0m dV \u001b[38;5;241m=\u001b[39m (dt \u001b[38;5;241m/\u001b[39m tau_m) \u001b[38;5;241m*\u001b[39m (\u001b[38;5;241m-\u001b[39mV \u001b[38;5;241m+\u001b[39m v_reset \u001b[38;5;241m+\u001b[39m membr_R \u001b[38;5;241m*\u001b[39m I_syn)\n\u001b[1;32m     33\u001b[0m V \u001b[38;5;241m+\u001b[39m\u001b[38;5;241m=\u001b[39m dV\n",
      "\u001b[0;31mKeyboardInterrupt\u001b[0m: "
     ]
    }
   ],
   "source": [
    "def run_simulation(\n",
    "    W: Mat,\n",
    "\n",
    "    spike_train: Mat,\n",
    "    V: Vec,\n",
    "\n",
    "    # Neuron Parameters\n",
    "    tau_m: float,\n",
    "    v_reset: float,\n",
    "    v_thresh: float,\n",
    "    membr_R: float,\n",
    "\n",
    "    # How long do we run for? \n",
    "    t_max: float,\n",
    "    dt: float, \n",
    "\n",
    "):\n",
    "    # Simulation\n",
    "\n",
    "    for i, t in enumerate(np.arange(0, t_max, dt)):\n",
    "        if i == 0:\n",
    "            continue\n",
    "    \n",
    "        fired = V >= v_thresh\n",
    "        V[fired] = v_reset  # Reset voltage if threshold is crossed\n",
    "    \n",
    "        # Record spike times\n",
    "        spike_train[fired, i] = 1\n",
    "    \n",
    "        # Update voltages\n",
    "        I_syn = W.dot(spike_train[:, i-1])  # Synaptic current from spikes\n",
    "        dV = (dt / tau_m) * (-V + v_reset + membr_R * I_syn)\n",
    "        V += dV\n",
    "    \n",
    "        # No self-inputs; neurons cannot spike themselves in this timestep\n",
    "        V[fired] = v_reset\n",
    "    return spike_train\n",
    "\n",
    "time_arr = []\n",
    "for i in range(num_simulations):\n",
    "    start = time.time()\n",
    "    spike_train = run_simulation(\n",
    "        W,\n",
    "        _spike_train, _V,\n",
    "        _tau_m, _V_reset, _V_thresh, _R,\n",
    "        _t_max, _dt\n",
    "    )\n",
    "    end = time.time()\n",
    "    #print(f\"Iteration {i} took: {end - start} seconds\")\n",
    "    time_arr.append(end - start)\n",
    "\n",
    "print(f\"Average Time: {np.mean(time_arr)}\")\n",
    "print(f\"S.Dev Time: {np.std(time_arr)}\")"
   ]
  },
  {
   "cell_type": "markdown",
   "id": "1b55f901-33f4-4811-8797-da3c4b4a2f50",
   "metadata": {},
   "source": [
    "# Save the final spikes for comparison"
   ]
  },
  {
   "cell_type": "code",
   "execution_count": null,
   "id": "be5ff903-8f79-4521-a659-b0bc438e977d",
   "metadata": {},
   "outputs": [],
   "source": [
    "with open('spike_res.npy', 'wb') as f:\n",
    "    np.save(f, spike_train)"
   ]
  },
  {
   "cell_type": "code",
   "execution_count": null,
   "id": "3d713470-e84a-4eeb-aae0-0076162a7db8",
   "metadata": {},
   "outputs": [],
   "source": []
  }
 ],
 "metadata": {
  "kernelspec": {
   "display_name": "Python 3 (ipykernel)",
   "language": "python",
   "name": "python3"
  },
  "language_info": {
   "codemirror_mode": {
    "name": "ipython",
    "version": 3
   },
   "file_extension": ".py",
   "mimetype": "text/x-python",
   "name": "python",
   "nbconvert_exporter": "python",
   "pygments_lexer": "ipython3",
   "version": "3.12.2"
  }
 },
 "nbformat": 4,
 "nbformat_minor": 5
}
