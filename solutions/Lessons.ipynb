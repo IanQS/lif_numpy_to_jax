{
 "cells": [
  {
   "cell_type": "markdown",
   "id": "e4529eec-15f9-48ed-824e-207aa4835717",
   "metadata": {},
   "source": [
    "# The Leaky-Integrate and Fire model"
   ]
  },
  {
   "cell_type": "markdown",
   "id": "f9e3fd5e-32fd-41f9-9979-b4843fd87bfa",
   "metadata": {},
   "source": [
    "**Next Steps:** Visit `solutions_numpy.ipynb` and work through it"
   ]
  },
  {
   "cell_type": "markdown",
   "id": "7245a272-1219-4315-b304-fbf7493bfd7f",
   "metadata": {},
   "source": [
    "# Jax "
   ]
  },
  {
   "cell_type": "markdown",
   "id": "98ed3f4b-6874-4f45-988e-ce1e9d58c48d",
   "metadata": {},
   "source": [
    "## Jax Function Calls\n",
    "\n",
    "### Core Lessons:\n",
    "\n",
    "- Function Purity"
   ]
  },
  {
   "cell_type": "markdown",
   "id": "d0750ba8-d540-4fb5-b26d-fe5e8cdfdc44",
   "metadata": {},
   "source": [
    "**Next Steps:** Visit `solutions_01_jax.ipynb`"
   ]
  },
  {
   "cell_type": "markdown",
   "id": "767be924-df71-473d-8482-986d86f0b8a1",
   "metadata": {},
   "source": [
    "## Jax Jit\n",
    "\n",
    "### Core Lessons:\n",
    "\n",
    "- What it is?\n",
    "\n",
    "- What are its limitations a.k.a [why not `jit` everything](https://jax.readthedocs.io/en/latest/tutorials/jit-compilation.html#why-can-t-we-just-jit-everything)? "
   ]
  },
  {
   "cell_type": "markdown",
   "id": "a0ce4a20-3fc8-4d60-af1e-fda9c1f0d5a6",
   "metadata": {},
   "source": [
    "**Next Steps:** Visit `solutions_02_jax.ipynb`"
   ]
  },
  {
   "cell_type": "markdown",
   "id": "7bf95502-86a7-4643-a758-9cc1884d7261",
   "metadata": {},
   "source": [
    "## Jax Scans"
   ]
  },
  {
   "cell_type": "markdown",
   "id": "55337a3d-fc3d-4801-8184-c206d8fdd683",
   "metadata": {},
   "source": [
    "**Next Steps:** Visit `solutions_03_jax.ipynb`"
   ]
  },
  {
   "cell_type": "markdown",
   "id": "5820c311-10c1-4cbc-b490-07641464f2e3",
   "metadata": {},
   "source": [
    "## Bonus Material"
   ]
  },
  {
   "cell_type": "markdown",
   "id": "d7d86c2b-4b05-480b-96be-9602548d425a",
   "metadata": {},
   "source": [
    "### PyTrees"
   ]
  },
  {
   "cell_type": "markdown",
   "id": "a16956f6-3923-4f57-80dc-bfa0c8329fd9",
   "metadata": {},
   "source": []
  },
  {
   "cell_type": "markdown",
   "id": "eeb66fd3-268c-4f8d-9213-3132f6b6dd0a",
   "metadata": {},
   "source": []
  },
  {
   "cell_type": "markdown",
   "id": "0752886c-2642-470e-82ed-209b897c193d",
   "metadata": {},
   "source": []
  },
  {
   "cell_type": "markdown",
   "id": "eafc8238-97dc-44ac-bad9-5e7bb923df5e",
   "metadata": {},
   "source": []
  }
 ],
 "metadata": {
  "kernelspec": {
   "display_name": "Python 3 (ipykernel)",
   "language": "python",
   "name": "python3"
  },
  "language_info": {
   "codemirror_mode": {
    "name": "ipython",
    "version": 3
   },
   "file_extension": ".py",
   "mimetype": "text/x-python",
   "name": "python",
   "nbconvert_exporter": "python",
   "pygments_lexer": "ipython3",
   "version": "3.12.2"
  }
 },
 "nbformat": 4,
 "nbformat_minor": 5
}
