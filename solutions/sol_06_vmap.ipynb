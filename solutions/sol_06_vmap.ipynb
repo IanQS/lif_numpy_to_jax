{
 "cells": [
  {
   "cell_type": "markdown",
   "id": "1005520e-0e0c-4f4e-a82e-b5bfbd3049f7",
   "metadata": {},
   "source": [
    "# Jax's vmap\n",
    "\n",
    "## Goals:\n",
    "\n",
    "- Understanding the `vmap` operation, and how it can clean up your code and make it more interpretable\n",
    "\n",
    "## Concepts:\n",
    "\n",
    "- `vmap`"
   ]
  },
  {
   "cell_type": "code",
   "execution_count": 1,
   "id": "4d089337-0683-4cc8-9aae-4a0c7443fc32",
   "metadata": {},
   "outputs": [],
   "source": [
    "import jax.numpy as jnp\n",
    "from jax.scipy import stats\n",
    "import numpy as np\n",
    "from jax import vmap\n",
    "np.random.seed(42)\n"
   ]
  },
  {
   "cell_type": "markdown",
   "id": "a5e4af4f-422e-45b3-874f-ab1e483533d9",
   "metadata": {},
   "source": [
    "# Calculating the Gaussian PDF.... again"
   ]
  },
  {
   "cell_type": "code",
   "execution_count": 2,
   "id": "60315ea0-0c54-4734-ad0f-d9fa0e06cfe1",
   "metadata": {},
   "outputs": [
    {
     "name": "stderr",
     "output_type": "stream",
     "text": [
      "2024-04-26 16:11:53.447035: W external/xla/xla/service/gpu/nvptx_compiler.cc:718] The NVIDIA driver's CUDA version is 12.2 which is older than the ptxas CUDA version (12.4.131). Because the driver is older than the ptxas version, XLA is disabling parallel compilation, which may slow down compilation. You should update your NVIDIA driver or use the NVIDIA-provided CUDA forward compatibility packages.\n"
     ]
    },
    {
     "name": "stdout",
     "output_type": "stream",
     "text": [
      "Multivariate Normal correct? True\n"
     ]
    }
   ],
   "source": [
    "import numpy as np\n",
    "\n",
    "def gaussian_pdf_v(x, mu, Sigma):\n",
    "    # Dimensions of the data\n",
    "    k = mu.shape[0]\n",
    "    \n",
    "    # Calculate determinant and inverse of the covariance matrix\n",
    "    Sigma_det = jnp.linalg.det(Sigma)\n",
    "    Sigma_inv = jnp.linalg.inv(Sigma)\n",
    "    \n",
    "    # Calculate the normalization factor\n",
    "    normalization_factor = 1 / jnp.sqrt((2 * jnp.pi) ** k * Sigma_det)\n",
    "    x_mu = x - mu\n",
    "\n",
    "    ###############################################################\n",
    "    # From earlier exponent2 = -0.5 * jnp.einsum('ij,jj,ij->i', x_mu, Sigma_inv, x_mu)\n",
    "    to_exp = -0.5 * jnp.einsum(\"j, jj, j->\", x_mu, Sigma_inv, x_mu)\n",
    "    ###############################################################\n",
    "    \n",
    "    # Compute the Gaussian PDF\n",
    "    return normalization_factor * jnp.exp(to_exp)\n",
    "\n",
    "# Example usage\n",
    "mu = np.array([0, 0])  # Mean vector\n",
    "Sigma = np.array([[1, 0], [0, 1]])  # Covariance matrix\n",
    "X = np.array([[1, 1], [2, 2], [3, 3]])  # Point to evaluate the PDF\n",
    "\n",
    "vmapped_gaussian = vmap(gaussian_pdf_v, in_axes=(0, None, None))\n",
    "vmap_gauss_res = vmapped_gaussian(X, mu, Sigma)\n",
    "\n",
    "print(\"Multivariate Normal correct?\", jnp.allclose(\n",
    "    vmap_gauss_res, \n",
    "    stats.multivariate_normal.pdf(X, mu, Sigma)\n",
    "))"
   ]
  },
  {
   "cell_type": "markdown",
   "id": "4794415a-102c-4b9b-9553-afb6cece1445",
   "metadata": {},
   "source": [
    "# Applying learned kernels to a batch of input data"
   ]
  },
  {
   "cell_type": "code",
   "execution_count": 3,
   "id": "7bfbd4c9-59bc-49b3-ad68-bfc115264fe4",
   "metadata": {},
   "outputs": [],
   "source": [
    "\n",
    "BATCH_SIZE = 128\n",
    "NUM_CHANNELS = 3\n",
    "HEIGHT = 32\n",
    "WIDTH = 32\n",
    "\n",
    "LEARNED_FILTERS = 5\n",
    "images = jnp.asarray(np.random.rand(BATCH_SIZE, HEIGHT, WIDTH, NUM_CHANNELS))\n",
    "learned_kernels = jnp.asarray(np.random.rand(LEARNED_FILTERS, HEIGHT, WIDTH, NUM_CHANNELS))"
   ]
  },
  {
   "cell_type": "code",
   "execution_count": 4,
   "id": "4fbb319a-306e-41d3-aaba-61007a30074d",
   "metadata": {},
   "outputs": [],
   "source": [
    "def predict_images(x, kernels):\n",
    "    return jnp.einsum('bhwc,fhwc->bf', x, kernels)\n",
    "\n",
    "pred_batch = predict_images(images, learned_kernels)"
   ]
  },
  {
   "cell_type": "code",
   "execution_count": 5,
   "id": "aa4475c5-c497-4c29-892e-26d5856b5869",
   "metadata": {},
   "outputs": [],
   "source": [
    "def predict_single(x, kernels):\n",
    "    return jnp.einsum('hwc,fhwc->f', x, kernels)\n",
    "\n",
    "vmapped_predict = vmap(predict_single, in_axes=(0, None))\n",
    "pred_single_batch = vmapped_predict(images, learned_kernels)"
   ]
  },
  {
   "cell_type": "code",
   "execution_count": 6,
   "id": "76deb9f1-2314-4c13-9207-78ac4f919b53",
   "metadata": {},
   "outputs": [
    {
     "name": "stdout",
     "output_type": "stream",
     "text": [
      "True\n"
     ]
    }
   ],
   "source": [
    "print(jnp.allclose(\n",
    "    pred_batch, \n",
    "    pred_single_batch\n",
    "))"
   ]
  },
  {
   "cell_type": "markdown",
   "id": "1125a7a5-1002-4e64-beee-a92560133823",
   "metadata": {},
   "source": [
    "# "
   ]
  }
 ],
 "metadata": {
  "kernelspec": {
   "display_name": "Python 3 (ipykernel)",
   "language": "python",
   "name": "python3"
  },
  "language_info": {
   "codemirror_mode": {
    "name": "ipython",
    "version": 3
   },
   "file_extension": ".py",
   "mimetype": "text/x-python",
   "name": "python",
   "nbconvert_exporter": "python",
   "pygments_lexer": "ipython3",
   "version": "3.12.2"
  }
 },
 "nbformat": 4,
 "nbformat_minor": 5
}
