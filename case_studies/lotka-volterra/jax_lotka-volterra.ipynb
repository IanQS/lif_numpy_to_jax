{
 "cells": [
  {
   "cell_type": "markdown",
   "id": "b552093795061503",
   "metadata": {},
   "source": [
    "# Lotka-Volterra\n",
    "\n",
    "![](./lotka_volterra.png)\n",
    "\n",
    "# Jax Concepts Used\n",
    "\n",
    "- `jit` -> speed up jax code\n",
    "- `fori_loop` -> jax native `for-loop` that speeds up computation. Useful when you're `jit`-ing an entire function that has a for-loop. See [exe_03_primitives.ipynb](../../exercises/exe_03_primitives.ipynb) for a further discussion\n",
    "- `scan` -> like a `fori_loop`, but we can keep and pass along state. "
   ]
  },
  {
   "cell_type": "code",
   "execution_count": null,
   "id": "b95ab91b6f41d7d2",
   "metadata": {},
   "outputs": [],
   "source": [
    "import numpy as np\n",
    "import jax.numpy as jnp\n",
    "import jax\n",
    "from functools import partial"
   ]
  },
  {
   "cell_type": "code",
   "execution_count": null,
   "id": "eaaabcb7ceb221b9",
   "metadata": {},
   "outputs": [],
   "source": [
    "\"\"\"\n",
    "Notes:\n",
    "    1) We added in partial function to pass the static_argnames to the jit \n",
    "    2) we added in static_argnames to specify that these are constant and should not result in a recompilation\n",
    "\"\"\"\n",
    "@partial(jax.jit, static_argnames=[\"alpha\", \"beta\", \"gamma\", \"delta\", \"dt\"])\n",
    "def _lotka_volterra_step(\n",
    "    x, y,\n",
    "    alpha, beta, gamma, delta, dt\n",
    "):\n",
    "    \n",
    "    dxdt = alpha * x - beta * x * y\n",
    "    dydt = delta * x * y - gamma * y\n",
    "    \n",
    "    x_new = x + dxdt * dt\n",
    "    y_new = y + dydt * dt\n",
    "    \n",
    "    return x_new, y_new"
   ]
  },
  {
   "cell_type": "code",
   "execution_count": null,
   "id": "d13cd6e1325cc62e",
   "metadata": {},
   "outputs": [],
   "source": [
    "# Parameters\n",
    "alpha = 1.1\n",
    "beta = 0.4\n",
    "gamma = 0.4\n",
    "delta = 0.1\n",
    "dt = 0.1\n",
    "num_steps = 20\n",
    "\n",
    "\n",
    "lotka_volterra_step = partial(\n",
    "    _lotka_volterra_step,\n",
    "    alpha=alpha, beta=beta, gamma=gamma, delta=delta, dt=dt\n",
    ")\n",
    "\n",
    "# Initial populations\n",
    "x_prev = 10.0\n",
    "y_prev = 5.0\n",
    "\n"
   ]
  },
  {
   "cell_type": "code",
   "execution_count": null,
   "id": "f75a45e94bbb1dc9",
   "metadata": {},
   "outputs": [],
   "source": [
    "xs = []\n",
    "ys = []\n",
    "for i in range(num_steps):\n",
    "    x_new, y_new = lotka_volterra_step(\n",
    "        x_prev, y_prev\n",
    "    )\n",
    "\n",
    "    xs.append(x_new)\n",
    "    ys.append(y_new)\n",
    "\n",
    "    x_prev = x_new\n",
    "    y_prev = y_new\n"
   ]
  },
  {
   "cell_type": "code",
   "execution_count": null,
   "id": "6a91c3d7c8b45f38",
   "metadata": {},
   "outputs": [],
   "source": [
    "for (x, y) in zip(xs, ys):\n",
    "    print(f\"x: {x:.3f}, y: {y:.3f}\")\n"
   ]
  },
  {
   "cell_type": "markdown",
   "id": "82def256e0f42c0d",
   "metadata": {},
   "source": [
    "# fori-loop\n",
    "\n",
    "We need to redefine our lotka_volterra function to make it compatible with jax. There are two things we can do:\n",
    "\n",
    "1) get only the last value\n",
    "2) get the trajectory\n",
    "\n",
    "## `fori_loop`: Only getting the last value"
   ]
  },
  {
   "cell_type": "code",
   "execution_count": null,
   "id": "24e855a9029c17c2",
   "metadata": {},
   "outputs": [],
   "source": [
    "@partial(jax.jit, static_argnames=[\"alpha\", \"beta\", \"gamma\", \"delta\", \"dt\"])\n",
    "def _lotka_volterra_step(\n",
    "    _, state,\n",
    "    alpha, beta, gamma, delta, dt\n",
    "):\n",
    "    x, y = state \n",
    "    dxdt = alpha * x - beta * x * y\n",
    "    dydt = delta * x * y - gamma * y\n",
    "    \n",
    "    x_new = x + dxdt * dt\n",
    "    y_new = y + dydt * dt\n",
    "    \n",
    "    return x_new, y_new\n",
    "\n",
    "\n",
    "lotka_volterra_step = partial(\n",
    "    _lotka_volterra_step,\n",
    "    alpha=alpha, beta=beta, gamma=gamma, delta=delta, dt=dt\n",
    ")\n",
    "\n",
    "# Initial populations\n",
    "x_prev = 10.0\n",
    "y_prev = 5.0\n",
    "\n",
    "# If we're only concerned with having the last value, we can do the following\n",
    "x, y = jax.lax.fori_loop(\n",
    "    lower=0, upper=num_steps,\n",
    "    body_fun=lotka_volterra_step, init_val=((x_prev, y_prev))\n",
    ")\n",
    "print(f\"x: {x:.3f}, y: {y:.3f}\")\n"
   ]
  },
  {
   "cell_type": "markdown",
   "id": "4b878b37886ac83a",
   "metadata": {},
   "source": [
    "## `fori_loop`: Getting the trajectory\n",
    "\n",
    "We store the trajectories as an array that we pass in. Note that this method is likely **slow** because we are manually indexing in. From a functional programming standpoint, what we're doing is less natural, too, as we can more elegantly express this in a `scan`, that we see later\n"
   ]
  },
  {
   "cell_type": "code",
   "execution_count": null,
   "id": "ebd1ea44024a90f6",
   "metadata": {},
   "outputs": [],
   "source": [
    "@partial(jax.jit, static_argnames=[\"alpha\", \"beta\", \"gamma\", \"delta\", \"dt\"])\n",
    "def _lotka_volterra_step(\n",
    "        trajectory_idx, state,\n",
    "        alpha, beta, gamma, delta, dt\n",
    "):\n",
    "    x, y = state[trajectory_idx]\n",
    "    dxdt = alpha * x - beta * x * y\n",
    "    dydt = delta * x * y - gamma * y\n",
    "\n",
    "    x_new = x + dxdt * dt\n",
    "    y_new = y + dydt * dt\n",
    "    \n",
    "    state = state.at[trajectory_idx + 1].set([x_new, y_new])\n",
    "    return state\n",
    "\n",
    "\n",
    "lotka_volterra_step = partial(\n",
    "    _lotka_volterra_step,\n",
    "    alpha=alpha, beta=beta, gamma=gamma, delta=delta, dt=dt\n",
    ")\n",
    "\n",
    "# Initial populations\n",
    "x_prev = 10.0\n",
    "y_prev = 5.0\n",
    "\n",
    "trajectory = jnp.zeros((num_steps+1, 2))\n",
    "trajectory = trajectory.at[0].set([x_prev, y_prev])\n",
    "\n",
    "\n",
    "# If we're only concerned with having the last value, we can do the following\n",
    "trajectory = jax.lax.fori_loop(\n",
    "    lower=0, upper=num_steps,\n",
    "    body_fun=lotka_volterra_step, init_val=(trajectory)\n",
    ")\n",
    "\n",
    "for i in range(len(np.asarray(trajectory))):\n",
    "    x = trajectory[i, 0]\n",
    "    y = trajectory[i, 1]\n",
    "    print(f\"x: {x:.3f}, y: {y:.3f}\")\n"
   ]
  },
  {
   "cell_type": "markdown",
   "id": "cc71e4387810bdc1",
   "metadata": {},
   "source": [
    "# Scan\n",
    "\n",
    "This is similar to the `fori_loop` where we store the state, except we do not need to use `state = state.at[unused_i+1].set([x_new, y_new])` to store the trajectory. \n",
    "    \n",
    "This is a more \"natural\" way to pass along the information.\n",
    "\n",
    "Documentation: [jax.lax.scan](https://jax.readthedocs.io/en/latest/_autosummary/jax.lax.scan.html)\n"
   ]
  },
  {
   "cell_type": "code",
   "execution_count": null,
   "id": "f32c7f01c617b38b",
   "metadata": {},
   "outputs": [],
   "source": [
    "@partial(jax.jit, static_argnames=[\"alpha\", \"beta\", \"gamma\", \"delta\", \"dt\"])\n",
    "def _lotka_volterra_step(\n",
    "        state, _,\n",
    "        alpha, beta, gamma, delta, dt\n",
    "):\n",
    "    x, y = state\n",
    "    dxdt = alpha * x - beta * x * y\n",
    "    dydt = delta * x * y - gamma * y\n",
    "\n",
    "    x_new = x + dxdt * dt\n",
    "    y_new = y + dydt * dt\n",
    "\n",
    "    return (x_new, y_new), (x_new, y_new)\n",
    "\n",
    "\n",
    "lotka_volterra_step = partial(\n",
    "    _lotka_volterra_step,\n",
    "    alpha=alpha, beta=beta, gamma=gamma, delta=delta, dt=dt\n",
    ")\n",
    "\n",
    "# Initial populations\n",
    "x_prev = 10.0\n",
    "y_prev = 5.0\n",
    "\n",
    "final_state, trajectory = jax.lax.scan(\n",
    "    f=lotka_volterra_step,\n",
    "    init=(x_prev, y_prev),\n",
    "    xs=None,\n",
    "    length=num_steps\n",
    ")\n",
    "\n"
   ]
  },
  {
   "cell_type": "code",
   "execution_count": null,
   "id": "274338c4b9425960",
   "metadata": {},
   "outputs": [],
   "source": [
    "np.asarray(final_state)"
   ]
  },
  {
   "cell_type": "code",
   "execution_count": null,
   "id": "5ddd09abb23ebd0c",
   "metadata": {},
   "outputs": [],
   "source": [
    "for (_x, _y) in np.asarray(trajectory).T:\n",
    "    print(_x, _y)"
   ]
  },
  {
   "cell_type": "code",
   "execution_count": null,
   "id": "6bd41224bf2c1bf6",
   "metadata": {},
   "outputs": [],
   "source": []
  }
 ],
 "metadata": {
  "kernelspec": {
   "display_name": "Python 3 (ipykernel)",
   "language": "python",
   "name": "python3"
  }
 },
 "nbformat": 4,
 "nbformat_minor": 5
}
