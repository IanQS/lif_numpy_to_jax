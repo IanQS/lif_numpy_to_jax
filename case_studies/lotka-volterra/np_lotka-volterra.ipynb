{
 "cells": [
  {
   "cell_type": "markdown",
   "id": "39b924cf501093fb",
   "metadata": {},
   "source": [
    "# Lotka-Volterra\n",
    "\n",
    "![](./lotka_volterra.png)\n"
   ]
  },
  {
   "cell_type": "code",
   "execution_count": null,
   "id": "a328d6c4a70ba69e",
   "metadata": {
    "ExecuteTime": {
     "end_time": "2024-06-13T00:42:12.489085Z",
     "start_time": "2024-06-13T00:42:12.418760Z"
    }
   },
   "outputs": [],
   "source": [
    "import numpy as np\n",
    "from functools import partial"
   ]
  },
  {
   "cell_type": "code",
   "execution_count": null,
   "id": "3d1e4d23c4b763e7",
   "metadata": {
    "ExecuteTime": {
     "end_time": "2024-06-13T00:42:12.743278Z",
     "start_time": "2024-06-13T00:42:12.740647Z"
    }
   },
   "outputs": [],
   "source": [
    "def _lotka_volterra_step(\n",
    "    x, y,\n",
    "    alpha, beta, gamma, delta, dt\n",
    "):\n",
    "    \n",
    "    dxdt = alpha * x - beta * x * y\n",
    "    dydt = delta * x * y - gamma * y\n",
    "    \n",
    "    x_new = x + dxdt * dt\n",
    "    y_new = y + dydt * dt\n",
    "    \n",
    "    return x_new, y_new"
   ]
  },
  {
   "cell_type": "code",
   "execution_count": null,
   "id": "17190690e41dde38",
   "metadata": {
    "ExecuteTime": {
     "end_time": "2024-06-13T00:42:13.630916Z",
     "start_time": "2024-06-13T00:42:13.628443Z"
    }
   },
   "outputs": [],
   "source": [
    "# Parameters\n",
    "alpha = 1.1\n",
    "beta = 0.4\n",
    "gamma = 0.4\n",
    "delta = 0.1\n",
    "dt = 0.1\n",
    "num_steps = 20\n",
    "\n",
    "\n",
    "lotka_volterra_step = partial(\n",
    "    _lotka_volterra_step,\n",
    "    alpha=alpha, beta=beta, gamma=gamma, delta=delta, dt=dt\n",
    ")\n",
    "\n",
    "# Initial populations\n",
    "x_prev = 10.0\n",
    "y_prev = 5.0"
   ]
  },
  {
   "cell_type": "code",
   "execution_count": null,
   "id": "f7b45dc3e8db1e27",
   "metadata": {
    "ExecuteTime": {
     "end_time": "2024-06-13T00:42:14.489596Z",
     "start_time": "2024-06-13T00:42:14.487029Z"
    }
   },
   "outputs": [],
   "source": [
    "xs = []\n",
    "ys = []\n",
    "for i in range(num_steps):\n",
    "    x_new, y_new = lotka_volterra_step(\n",
    "        x_prev, y_prev\n",
    "    )\n",
    "    \n",
    "    xs.append(x_new)\n",
    "    ys.append(y_new)\n",
    "    \n",
    "    x_prev = x_new\n",
    "    y_prev = y_new"
   ]
  },
  {
   "cell_type": "code",
   "execution_count": null,
   "id": "72bde26435c935bb",
   "metadata": {
    "ExecuteTime": {
     "end_time": "2024-06-13T00:42:53.397186Z",
     "start_time": "2024-06-13T00:42:53.395142Z"
    }
   },
   "outputs": [],
   "source": [
    "for (x, y) in zip(xs, ys):\n",
    "    print(f\"x: {x:.3f}, y: {y:.3f}\")"
   ]
  },
  {
   "cell_type": "code",
   "execution_count": null,
   "id": "b0b71065a6159221",
   "metadata": {},
   "outputs": [],
   "source": []
  }
 ],
 "metadata": {
  "kernelspec": {
   "display_name": "Python 3 (ipykernel)",
   "language": "python",
   "name": "python3"
  }
 },
 "nbformat": 4,
 "nbformat_minor": 5
}
