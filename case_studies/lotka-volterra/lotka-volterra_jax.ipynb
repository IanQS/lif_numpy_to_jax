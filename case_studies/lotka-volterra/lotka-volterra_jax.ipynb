{
 "cells": [
  {
   "metadata": {},
   "cell_type": "markdown",
   "source": [
    "# Lotka-Volterra\n",
    "\n",
    "![](./lotka_volterra.png)\n",
    "\n",
    "# Jax Concepts Used\n",
    "\n",
    "- `jit` -> speed up jax code\n",
    "- `fori_loop` -> jax native `for-loop` that speeds up computation. Useful when you're `jit`-ing an entire function that has a for-loop. See [exe_03_primitives.ipynb](../../exercises/exe_03_primitives.ipynb) for a further discussion\n",
    "- `scan` -> like a `fori_loop`, but we can keep and pass along state. "
   ],
   "id": "b552093795061503"
  },
  {
   "metadata": {
    "ExecuteTime": {
     "end_time": "2024-06-14T19:54:41.078032Z",
     "start_time": "2024-06-14T19:54:40.667412Z"
    }
   },
   "cell_type": "code",
   "source": [
    "import numpy as np\n",
    "import jax.numpy as jnp\n",
    "import jax\n",
    "from functools import partial"
   ],
   "id": "b95ab91b6f41d7d2",
   "outputs": [],
   "execution_count": 1
  },
  {
   "metadata": {
    "ExecuteTime": {
     "end_time": "2024-06-14T19:54:41.081882Z",
     "start_time": "2024-06-14T19:54:41.079197Z"
    }
   },
   "cell_type": "code",
   "source": [
    "\"\"\"\n",
    "Notes:\n",
    "    1) We added in partial function to pass the static_argnames to the jit \n",
    "    2) we added in static_argnames to specify that these are constant and should not result in a recompilation\n",
    "\"\"\"\n",
    "@partial(jax.jit, static_argnames=[\"alpha\", \"beta\", \"gamma\", \"delta\", \"dt\"])\n",
    "def _lotka_volterra_step(\n",
    "    x, y,\n",
    "    alpha, beta, gamma, delta, dt\n",
    "):\n",
    "    \n",
    "    dxdt = alpha * x - beta * x * y\n",
    "    dydt = delta * x * y - gamma * y\n",
    "    \n",
    "    x_new = x + dxdt * dt\n",
    "    y_new = y + dydt * dt\n",
    "    \n",
    "    return x_new, y_new"
   ],
   "id": "eaaabcb7ceb221b9",
   "outputs": [],
   "execution_count": 2
  },
  {
   "metadata": {
    "ExecuteTime": {
     "end_time": "2024-06-14T19:54:41.084646Z",
     "start_time": "2024-06-14T19:54:41.082559Z"
    }
   },
   "cell_type": "code",
   "source": [
    "# Parameters\n",
    "alpha = 1.1\n",
    "beta = 0.4\n",
    "gamma = 0.4\n",
    "delta = 0.1\n",
    "dt = 0.1\n",
    "num_steps = 20\n",
    "\n",
    "\n",
    "lotka_volterra_step = partial(\n",
    "    _lotka_volterra_step,\n",
    "    alpha=alpha, beta=beta, gamma=gamma, delta=delta, dt=dt\n",
    ")\n",
    "\n",
    "# Initial populations\n",
    "x_prev = 10.0\n",
    "y_prev = 5.0\n",
    "\n"
   ],
   "id": "d13cd6e1325cc62e",
   "outputs": [],
   "execution_count": 3
  },
  {
   "metadata": {
    "ExecuteTime": {
     "end_time": "2024-06-14T19:54:41.122253Z",
     "start_time": "2024-06-14T19:54:41.085431Z"
    }
   },
   "cell_type": "code",
   "source": [
    "xs = []\n",
    "ys = []\n",
    "for i in range(num_steps):\n",
    "    x_new, y_new = lotka_volterra_step(\n",
    "        x_prev, y_prev\n",
    "    )\n",
    "\n",
    "    xs.append(x_new)\n",
    "    ys.append(y_new)\n",
    "\n",
    "    x_prev = x_new\n",
    "    y_prev = y_new\n"
   ],
   "id": "f75a45e94bbb1dc9",
   "outputs": [],
   "execution_count": 4
  },
  {
   "cell_type": "code",
   "metadata": {
    "ExecuteTime": {
     "end_time": "2024-06-14T19:54:41.126679Z",
     "start_time": "2024-06-14T19:54:41.123792Z"
    }
   },
   "source": [
    "for (x, y) in zip(xs, ys):\n",
    "    print(f\"x: {x:.3f}, y: {y:.3f}\")\n"
   ],
   "id": "6a91c3d7c8b45f38",
   "outputs": [
    {
     "name": "stdout",
     "output_type": "stream",
     "text": [
      "x: 9.100, y: 5.300\n",
      "x: 8.172, y: 5.570\n",
      "x: 7.250, y: 5.803\n",
      "x: 6.365, y: 5.991\n",
      "x: 5.539, y: 6.133\n",
      "x: 4.790, y: 6.227\n",
      "x: 4.124, y: 6.277\n",
      "x: 3.542, y: 6.284\n",
      "x: 3.041, y: 6.256\n",
      "x: 2.615, y: 6.196\n",
      "x: 2.254, y: 6.110\n",
      "x: 1.951, y: 6.003\n",
      "x: 1.698, y: 5.880\n",
      "x: 1.485, y: 5.745\n",
      "x: 1.307, y: 5.600\n",
      "x: 1.158, y: 5.449\n",
      "x: 1.033, y: 5.295\n",
      "x: 0.928, y: 5.137\n",
      "x: 0.839, y: 4.980\n",
      "x: 0.764, y: 4.822\n"
     ]
    }
   ],
   "execution_count": 5
  },
  {
   "metadata": {},
   "cell_type": "markdown",
   "source": [
    "# fori-loop\n",
    "\n",
    "We need to redefine our lotka_volterra function to make it compatible with jax. There are two things we can do:\n",
    "\n",
    "1) get only the last value\n",
    "2) get the trajectory\n",
    "\n",
    "## `fori_loop`: Only getting the last value"
   ],
   "id": "82def256e0f42c0d"
  },
  {
   "metadata": {
    "ExecuteTime": {
     "end_time": "2024-06-14T19:54:41.152406Z",
     "start_time": "2024-06-14T19:54:41.127538Z"
    }
   },
   "cell_type": "code",
   "source": [
    "@partial(jax.jit, static_argnames=[\"alpha\", \"beta\", \"gamma\", \"delta\", \"dt\"])\n",
    "def _lotka_volterra_step(\n",
    "    _, state,\n",
    "    alpha, beta, gamma, delta, dt\n",
    "):\n",
    "    x, y = state \n",
    "    dxdt = alpha * x - beta * x * y\n",
    "    dydt = delta * x * y - gamma * y\n",
    "    \n",
    "    x_new = x + dxdt * dt\n",
    "    y_new = y + dydt * dt\n",
    "    \n",
    "    return x_new, y_new\n",
    "\n",
    "\n",
    "lotka_volterra_step = partial(\n",
    "    _lotka_volterra_step,\n",
    "    alpha=alpha, beta=beta, gamma=gamma, delta=delta, dt=dt\n",
    ")\n",
    "\n",
    "# Initial populations\n",
    "x_prev = 10.0\n",
    "y_prev = 5.0\n",
    "\n",
    "# If we're only concerned with having the last value, we can do the following\n",
    "x, y = jax.lax.fori_loop(\n",
    "    lower=0, upper=num_steps,\n",
    "    body_fun=lotka_volterra_step, init_val=((x_prev, y_prev))\n",
    ")\n",
    "print(f\"x: {x:.3f}, y: {y:.3f}\")\n"
   ],
   "id": "24e855a9029c17c2",
   "outputs": [
    {
     "name": "stdout",
     "output_type": "stream",
     "text": [
      "x: 0.764, y: 4.822\n"
     ]
    }
   ],
   "execution_count": 6
  },
  {
   "metadata": {},
   "cell_type": "markdown",
   "source": [
    "## `fori_loop`: Getting the trajectory\n",
    "\n",
    "We store the trajectories as an array that we pass in. Note that this method is likely **slow** because we are manually indexing in. From a functional programming standpoint, what we're doing is less natural, too, as we can more elegantly express this in a `scan`, that we see later\n"
   ],
   "id": "4b878b37886ac83a"
  },
  {
   "metadata": {
    "ExecuteTime": {
     "end_time": "2024-06-14T19:54:41.268887Z",
     "start_time": "2024-06-14T19:54:41.153118Z"
    }
   },
   "cell_type": "code",
   "source": [
    "@partial(jax.jit, static_argnames=[\"alpha\", \"beta\", \"gamma\", \"delta\", \"dt\"])\n",
    "def _lotka_volterra_step(\n",
    "        trajectory_idx, state,\n",
    "        alpha, beta, gamma, delta, dt\n",
    "):\n",
    "    x, y = state[trajectory_idx]\n",
    "    dxdt = alpha * x - beta * x * y\n",
    "    dydt = delta * x * y - gamma * y\n",
    "\n",
    "    x_new = x + dxdt * dt\n",
    "    y_new = y + dydt * dt\n",
    "    \n",
    "    state = state.at[trajectory_idx + 1].set([x_new, y_new])\n",
    "    return state\n",
    "\n",
    "\n",
    "lotka_volterra_step = partial(\n",
    "    _lotka_volterra_step,\n",
    "    alpha=alpha, beta=beta, gamma=gamma, delta=delta, dt=dt\n",
    ")\n",
    "\n",
    "# Initial populations\n",
    "x_prev = 10.0\n",
    "y_prev = 5.0\n",
    "\n",
    "trajectory = jnp.zeros((num_steps+1, 2))\n",
    "trajectory = trajectory.at[0].set([x_prev, y_prev])\n",
    "\n",
    "\n",
    "# If we're only concerned with having the last value, we can do the following\n",
    "trajectory = jax.lax.fori_loop(\n",
    "    lower=0, upper=num_steps,\n",
    "    body_fun=lotka_volterra_step, init_val=(trajectory)\n",
    ")\n",
    "\n",
    "for i in range(len(np.asarray(trajectory))):\n",
    "    x = trajectory[i, 0]\n",
    "    y = trajectory[i, 1]\n",
    "    print(f\"x: {x:.3f}, y: {y:.3f}\")\n"
   ],
   "id": "ebd1ea44024a90f6",
   "outputs": [
    {
     "name": "stdout",
     "output_type": "stream",
     "text": [
      "x: 10.000, y: 5.000\n",
      "x: 9.100, y: 5.300\n",
      "x: 8.172, y: 5.570\n",
      "x: 7.250, y: 5.803\n",
      "x: 6.365, y: 5.991\n",
      "x: 5.539, y: 6.133\n",
      "x: 4.790, y: 6.227\n",
      "x: 4.124, y: 6.277\n",
      "x: 3.542, y: 6.284\n",
      "x: 3.041, y: 6.256\n",
      "x: 2.615, y: 6.196\n",
      "x: 2.254, y: 6.110\n",
      "x: 1.951, y: 6.003\n",
      "x: 1.698, y: 5.880\n",
      "x: 1.485, y: 5.745\n",
      "x: 1.307, y: 5.600\n",
      "x: 1.158, y: 5.449\n",
      "x: 1.033, y: 5.295\n",
      "x: 0.928, y: 5.137\n",
      "x: 0.839, y: 4.980\n",
      "x: 0.764, y: 4.822\n"
     ]
    }
   ],
   "execution_count": 7
  },
  {
   "metadata": {},
   "cell_type": "markdown",
   "source": [
    "# Scan\n",
    "\n",
    "This is similar to the `fori_loop` where we store the state, except we do not need to use `state = state.at[unused_i+1].set([x_new, y_new])` to store the trajectory. \n",
    "    \n",
    "This is a more \"natural\" way to pass along the information.\n",
    "\n",
    "Documentation: [jax.lax.scan](https://jax.readthedocs.io/en/latest/_autosummary/jax.lax.scan.html)\n"
   ],
   "id": "cc71e4387810bdc1"
  },
  {
   "metadata": {
    "ExecuteTime": {
     "end_time": "2024-06-14T20:03:17.242119Z",
     "start_time": "2024-06-14T20:03:17.209748Z"
    }
   },
   "cell_type": "code",
   "source": [
    "@partial(jax.jit, static_argnames=[\"alpha\", \"beta\", \"gamma\", \"delta\", \"dt\"])\n",
    "def _lotka_volterra_step(\n",
    "        state, _,\n",
    "        alpha, beta, gamma, delta, dt\n",
    "):\n",
    "    x, y = state\n",
    "    dxdt = alpha * x - beta * x * y\n",
    "    dydt = delta * x * y - gamma * y\n",
    "\n",
    "    x_new = x + dxdt * dt\n",
    "    y_new = y + dydt * dt\n",
    "\n",
    "    return (x_new, y_new), (x_new, y_new)\n",
    "\n",
    "\n",
    "lotka_volterra_step = partial(\n",
    "    _lotka_volterra_step,\n",
    "    alpha=alpha, beta=beta, gamma=gamma, delta=delta, dt=dt\n",
    ")\n",
    "\n",
    "# Initial populations\n",
    "x_prev = 10.0\n",
    "y_prev = 5.0\n",
    "\n",
    "final_state, trajectory = jax.lax.scan(\n",
    "    f=lotka_volterra_step,\n",
    "    init=(x_prev, y_prev),\n",
    "    xs=None,\n",
    "    length=num_steps\n",
    ")\n",
    "\n"
   ],
   "id": "f32c7f01c617b38b",
   "outputs": [],
   "execution_count": 29
  },
  {
   "metadata": {
    "ExecuteTime": {
     "end_time": "2024-06-14T20:03:17.355827Z",
     "start_time": "2024-06-14T20:03:17.352903Z"
    }
   },
   "cell_type": "code",
   "source": "np.asarray(final_state)",
   "id": "274338c4b9425960",
   "outputs": [
    {
     "data": {
      "text/plain": [
       "array([0.76442355, 4.822236  ], dtype=float32)"
      ]
     },
     "execution_count": 30,
     "metadata": {},
     "output_type": "execute_result"
    }
   ],
   "execution_count": 30
  },
  {
   "metadata": {
    "ExecuteTime": {
     "end_time": "2024-06-14T20:03:18.231814Z",
     "start_time": "2024-06-14T20:03:18.228704Z"
    }
   },
   "cell_type": "code",
   "source": [
    "for (_x, _y) in np.asarray(trajectory).T:\n",
    "    print(_x, _y)"
   ],
   "id": "5ddd09abb23ebd0c",
   "outputs": [
    {
     "name": "stdout",
     "output_type": "stream",
     "text": [
      "9.1 5.3\n",
      "8.171801 5.5703\n",
      "7.249923 5.802682\n",
      "6.3646545 5.991265\n",
      "5.539473 6.1329374\n",
      "4.7898855 6.227352\n",
      "4.1236405 6.276541\n",
      "3.5419528 6.2843018\n",
      "3.0412197 6.2555165\n",
      "2.6147778 6.19554\n",
      "2.2544048 6.109718\n",
      "1.9514382 6.003067\n",
      "1.6975118 5.8800907\n",
      "1.4849771 5.7447023\n",
      "1.3070946 5.6002216\n",
      "1.1580743 5.449413\n",
      "1.0330294 5.2945447\n",
      "0.92788583 5.137457\n",
      "0.83927435 4.9796286\n",
      "0.76442355 4.822236\n"
     ]
    }
   ],
   "execution_count": 31
  },
  {
   "metadata": {},
   "cell_type": "code",
   "outputs": [],
   "execution_count": null,
   "source": "",
   "id": "6bd41224bf2c1bf6"
  }
 ],
 "metadata": {
  "kernelspec": {
   "name": "python3",
   "language": "python",
   "display_name": "Python 3 (ipykernel)"
  }
 },
 "nbformat": 4,
 "nbformat_minor": 5
}
