{
 "cells": [
  {
   "metadata": {},
   "cell_type": "markdown",
   "source": [
    "# Lotka-Volterra\n",
    "\n",
    "![](./lotka_volterra.png)\n",
    "\n",
    "# Jax Concepts Used\n",
    "\n",
    "- `jit` -> speed up jax code\n",
    "- `fori_loop` -> jax native `for-loop` that speeds up computation. Useful when you're `jit`-ing an entire function that has a for-loop. See [exe_03_primitives.ipynb](../../exercises/exe_03_primitives.ipynb) for a further discussion"
   ],
   "id": "b552093795061503"
  },
  {
   "metadata": {
    "ExecuteTime": {
     "end_time": "2024-06-13T00:57:33.813719Z",
     "start_time": "2024-06-13T00:57:33.288653Z"
    }
   },
   "cell_type": "code",
   "source": [
    "import numpy as np\n",
    "import jax.numpy as jnp\n",
    "import jax\n",
    "from functools import partial"
   ],
   "id": "b95ab91b6f41d7d2",
   "outputs": [],
   "execution_count": 1
  },
  {
   "metadata": {
    "ExecuteTime": {
     "end_time": "2024-06-13T00:57:34.492946Z",
     "start_time": "2024-06-13T00:57:34.489506Z"
    }
   },
   "cell_type": "code",
   "source": [
    "def _lotka_volterra_step(\n",
    "    x, y,\n",
    "    alpha, beta, gamma, delta, dt\n",
    "):\n",
    "    \n",
    "    dxdt = alpha * x - beta * x * y\n",
    "    dydt = delta * x * y - gamma * y\n",
    "    \n",
    "    x_new = x + dxdt * dt\n",
    "    y_new = y + dydt * dt\n",
    "    \n",
    "    return x_new, y_new"
   ],
   "id": "eaaabcb7ceb221b9",
   "outputs": [],
   "execution_count": 2
  },
  {
   "metadata": {
    "ExecuteTime": {
     "end_time": "2024-06-13T00:58:01.949361Z",
     "start_time": "2024-06-13T00:58:01.945211Z"
    }
   },
   "cell_type": "code",
   "source": [
    "# Parameters\n",
    "alpha = 1.1\n",
    "beta = 0.4\n",
    "gamma = 0.4\n",
    "delta = 0.1\n",
    "dt = 0.1\n",
    "num_steps = 20\n",
    "\n",
    "\n",
    "lotka_volterra_step = partial(\n",
    "    _lotka_volterra_step,\n",
    "    alpha=alpha, beta=beta, gamma=gamma, delta=delta, dt=dt\n",
    ")\n",
    "\n",
    "# Initial populations\n",
    "x_prev = 10.0\n",
    "y_prev = 5.0\n",
    "\n"
   ],
   "id": "d13cd6e1325cc62e",
   "outputs": [],
   "execution_count": 4
  },
  {
   "metadata": {
    "ExecuteTime": {
     "end_time": "2024-06-13T00:58:02.656802Z",
     "start_time": "2024-06-13T00:58:02.653335Z"
    }
   },
   "cell_type": "code",
   "source": [
    "xs = []\n",
    "ys = []\n",
    "for i in range(num_steps):\n",
    "    x_new, y_new = lotka_volterra_step(\n",
    "        x_prev, y_prev\n",
    "    )\n",
    "\n",
    "    xs.append(x_new)\n",
    "    ys.append(y_new)\n",
    "\n",
    "    x_prev = x_new\n",
    "    y_prev = y_new\n"
   ],
   "id": "f75a45e94bbb1dc9",
   "outputs": [],
   "execution_count": 5
  },
  {
   "cell_type": "code",
   "metadata": {
    "ExecuteTime": {
     "end_time": "2024-06-13T00:58:03.407158Z",
     "start_time": "2024-06-13T00:58:03.404132Z"
    }
   },
   "source": [
    "for (x, y) in zip(xs, ys):\n",
    "    print(f\"x: {x:.3f}, y: {y:.3f}\")\n"
   ],
   "id": "6a91c3d7c8b45f38",
   "outputs": [
    {
     "name": "stdout",
     "output_type": "stream",
     "text": [
      "x: 9.100, y: 5.300\n",
      "x: 8.172, y: 5.570\n",
      "x: 7.250, y: 5.803\n",
      "x: 6.365, y: 5.991\n",
      "x: 5.539, y: 6.133\n",
      "x: 4.790, y: 6.227\n",
      "x: 4.124, y: 6.277\n",
      "x: 3.542, y: 6.284\n",
      "x: 3.041, y: 6.256\n",
      "x: 2.615, y: 6.196\n",
      "x: 2.254, y: 6.110\n",
      "x: 1.951, y: 6.003\n",
      "x: 1.698, y: 5.880\n",
      "x: 1.485, y: 5.745\n",
      "x: 1.307, y: 5.600\n",
      "x: 1.158, y: 5.449\n",
      "x: 1.033, y: 5.295\n",
      "x: 0.928, y: 5.137\n",
      "x: 0.839, y: 4.980\n",
      "x: 0.764, y: 4.822\n"
     ]
    }
   ],
   "execution_count": 6
  },
  {
   "metadata": {},
   "cell_type": "code",
   "outputs": [],
   "execution_count": null,
   "source": "",
   "id": "485ceb357ff23344"
  }
 ],
 "metadata": {
  "kernelspec": {
   "name": "python3",
   "language": "python",
   "display_name": "Python 3 (ipykernel)"
  }
 },
 "nbformat": 4,
 "nbformat_minor": 5
}
