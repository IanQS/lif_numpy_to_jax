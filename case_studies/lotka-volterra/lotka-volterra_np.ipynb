{
 "cells": [
  {
   "cell_type": "markdown",
   "metadata": {},
   "source": [
    "# Lotka-Volterra\n",
    "\n",
    "![](./lotka_volterra.png)\n"
   ],
   "id": "39b924cf501093fb"
  },
  {
   "cell_type": "code",
   "metadata": {
    "ExecuteTime": {
     "end_time": "2024-06-13T00:42:12.489085Z",
     "start_time": "2024-06-13T00:42:12.418760Z"
    }
   },
   "source": [
    "import numpy as np\n",
    "from functools import partial"
   ],
   "id": "a328d6c4a70ba69e",
   "outputs": [],
   "execution_count": 1
  },
  {
   "metadata": {
    "ExecuteTime": {
     "end_time": "2024-06-13T00:42:12.743278Z",
     "start_time": "2024-06-13T00:42:12.740647Z"
    }
   },
   "cell_type": "code",
   "source": [
    "def _lotka_volterra_step(\n",
    "    x, y,\n",
    "    alpha, beta, gamma, delta, dt\n",
    "):\n",
    "    \n",
    "    dxdt = alpha * x - beta * x * y\n",
    "    dydt = delta * x * y - gamma * y\n",
    "    \n",
    "    x_new = x + dxdt * dt\n",
    "    y_new = y + dydt * dt\n",
    "    \n",
    "    return x_new, y_new"
   ],
   "id": "3d1e4d23c4b763e7",
   "outputs": [],
   "execution_count": 2
  },
  {
   "metadata": {
    "ExecuteTime": {
     "end_time": "2024-06-13T00:42:13.630916Z",
     "start_time": "2024-06-13T00:42:13.628443Z"
    }
   },
   "cell_type": "code",
   "source": [
    "# Parameters\n",
    "alpha = 1.1\n",
    "beta = 0.4\n",
    "gamma = 0.4\n",
    "delta = 0.1\n",
    "dt = 0.1\n",
    "num_steps = 20\n",
    "\n",
    "\n",
    "lotka_volterra_step = partial(\n",
    "    _lotka_volterra_step,\n",
    "    alpha=alpha, beta=beta, gamma=gamma, delta=delta, dt=dt\n",
    ")\n",
    "\n",
    "# Initial populations\n",
    "x_prev = 10.0\n",
    "y_prev = 5.0"
   ],
   "id": "17190690e41dde38",
   "outputs": [],
   "execution_count": 3
  },
  {
   "metadata": {
    "ExecuteTime": {
     "end_time": "2024-06-13T00:42:14.489596Z",
     "start_time": "2024-06-13T00:42:14.487029Z"
    }
   },
   "cell_type": "code",
   "source": [
    "xs = []\n",
    "ys = []\n",
    "for i in range(num_steps):\n",
    "    x_new, y_new = lotka_volterra_step(\n",
    "        x_prev, y_prev\n",
    "    )\n",
    "    \n",
    "    xs.append(x_new)\n",
    "    ys.append(y_new)\n",
    "    \n",
    "    x_prev = x_new\n",
    "    y_prev = y_new"
   ],
   "id": "f7b45dc3e8db1e27",
   "outputs": [],
   "execution_count": 4
  },
  {
   "metadata": {
    "ExecuteTime": {
     "end_time": "2024-06-13T00:42:53.397186Z",
     "start_time": "2024-06-13T00:42:53.395142Z"
    }
   },
   "cell_type": "code",
   "source": [
    "for (x, y) in zip(xs, ys):\n",
    "    print(f\"x: {x:.3f}, y: {y:.3f}\")"
   ],
   "id": "72bde26435c935bb",
   "outputs": [
    {
     "name": "stdout",
     "output_type": "stream",
     "text": [
      "x: 9.100, y: 5.300\n",
      "x: 8.172, y: 5.570\n",
      "x: 7.250, y: 5.803\n",
      "x: 6.365, y: 5.991\n",
      "x: 5.539, y: 6.133\n",
      "x: 4.790, y: 6.227\n",
      "x: 4.124, y: 6.277\n",
      "x: 3.542, y: 6.284\n",
      "x: 3.041, y: 6.256\n",
      "x: 2.615, y: 6.196\n",
      "x: 2.254, y: 6.110\n",
      "x: 1.951, y: 6.003\n",
      "x: 1.698, y: 5.880\n",
      "x: 1.485, y: 5.745\n",
      "x: 1.307, y: 5.600\n",
      "x: 1.158, y: 5.449\n",
      "x: 1.033, y: 5.295\n",
      "x: 0.928, y: 5.137\n",
      "x: 0.839, y: 4.980\n",
      "x: 0.764, y: 4.822\n"
     ]
    }
   ],
   "execution_count": 6
  },
  {
   "metadata": {},
   "cell_type": "code",
   "outputs": [],
   "execution_count": null,
   "source": "",
   "id": "b0b71065a6159221"
  }
 ],
 "metadata": {
  "kernelspec": {
   "name": "python3",
   "language": "python",
   "display_name": "Python 3 (ipykernel)"
  }
 },
 "nbformat": 4,
 "nbformat_minor": 5
}
