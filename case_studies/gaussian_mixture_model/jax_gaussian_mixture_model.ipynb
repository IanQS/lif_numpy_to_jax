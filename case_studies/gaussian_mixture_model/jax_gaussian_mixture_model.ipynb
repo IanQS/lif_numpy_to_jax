{
 "cells": [
  {
   "cell_type": "markdown",
   "metadata": {},
   "source": [
    "# Gaussian_Mixture_Model\n",
    "\n",
    "Concepts used:\n",
    "\n",
    "- `jit`: make our code move real fast\n",
    "- `vmap`: automatically vectorize our `e_step` and `m_step` across the matrices of data\n",
    "- `pmap`: automatically parallelize our GMM across multiple initializations\n",
    "- `RNG`: reproducible randomness"
   ],
   "id": "2f5eb3a90919eb4a"
  },
  {
   "cell_type": "code",
   "metadata": {
    "ExecuteTime": {
     "end_time": "2024-06-15T16:20:22.669525Z",
     "start_time": "2024-06-15T16:20:22.292200Z"
    }
   },
   "source": [
    "import jax.numpy as jnp\n",
    "import jax\n",
    "\n",
    "from sklearn.datasets import make_blobs"
   ],
   "id": "7a93ff9ca2164e2a",
   "outputs": [],
   "execution_count": 2
  },
  {
   "metadata": {},
   "cell_type": "markdown",
   "source": "Our problem formulation is where there are 4 actual clusters (we do not know this). In a real-world scenario, we do not know the number of clusters ahead-of-time. ",
   "id": "13a90397e8c4fcdd"
  },
  {
   "metadata": {
    "ExecuteTime": {
     "end_time": "2024-06-15T16:27:28.275595Z",
     "start_time": "2024-06-15T16:27:28.234503Z"
    }
   },
   "cell_type": "code",
   "source": [
    "def make_ds():\n",
    "    points_in_classes = [30, 50, 20, 5]\n",
    "    centers = jnp.asarray([\n",
    "        [1, -1],  # bottom left\n",
    "        [5, 5],  # middle\n",
    "        [8,7],  # mid-right\n",
    "        [10, 0]  # bottom right\n",
    "    ])\n",
    "    return make_blobs(points_in_classes, centers=centers)\n",
    "    \n",
    "X, y = make_ds()"
   ],
   "id": "97c08b56af8adf43",
   "outputs": [],
   "execution_count": 3
  },
  {
   "metadata": {},
   "cell_type": "markdown",
   "source": [
    "# Batching\n",
    "\n",
    "Note how all our following code works with `x` instead of `X`? This is to indicate that \n",
    "we are working on a single sample at a time"
   ],
   "id": "fb537ae36a5678c3"
  },
  {
   "metadata": {
    "ExecuteTime": {
     "end_time": "2024-06-15T16:41:37.151453Z",
     "start_time": "2024-06-15T16:41:37.148788Z"
    }
   },
   "cell_type": "code",
   "source": [
    "def _e_step(x, mu, sigma, class_proba):\n",
    "    pass\n",
    "\n",
    "def _m_step(\n",
    "        x, mu, sigma, class_proba, responsibilities\n",
    "):\n",
    "    pass\n",
    "\n",
    "def _log_lik(x, mu, sigma, class_proba):\n",
    "    pass"
   ],
   "id": "2600febc63c59f3d",
   "outputs": [],
   "execution_count": 4
  },
  {
   "metadata": {},
   "cell_type": "code",
   "outputs": [],
   "execution_count": null,
   "source": [
    "@jax.jit\n",
    "def e_step(X, mu, sigma, class_proba):\n",
    "    return jax.vmap(_e_step, in_axes=(0, None, None, None))(X, mu, sigma, class_proba)\n",
    "\n",
    "@jax.jit\n",
    "def m_step(X, mu, sigma, class_proba, responsibilities):\n",
    "    return jax.vmap(_m_step, in_axes=(0, None, None, None, None))(X, mu, sigma, class_proba, responsibilities)\n",
    "\n",
    "@jax.jit\n",
    "def log_lik(X, mu, sigma, class_proba):\n",
    "    return jax.vmap(_log_lik, in_axes=(0, None, None, None))(X, mu, sigma, class_proba)\n",
    "\n",
    "def run_GMM(\n",
    "        X,\n",
    "        # Parameters\n",
    "        mu, sigma, class_proba,\n",
    "        \n",
    "        # Hyperparameters\n",
    "        tol=1e-2\n",
    "):\n",
    "    \"\"\"\n",
    "    We accept the guesses so that we can do a `pmap` over\n",
    "    \"\"\"\n",
    "    \n",
    "    ll = log_lik()\n",
    "    while ll > tol:\n",
    "        \n",
    "        responsibilities = e_step(X, mu, sigma, class_proba)\n",
    "        mu, sigma, class_proba = m_step(\n",
    "            X, mu, sigma, class_proba, responsibilities\n",
    "        )\n",
    "        \n",
    "        ll = log_lik(X, mu, sigma, class_proba)\n",
    "        \n",
    "    return mu, sigma, class_proba"
   ],
   "id": "83b6357d97d02cbe"
  }
 ],
 "metadata": {
  "kernelspec": {
   "name": "python3",
   "language": "python",
   "display_name": "Python 3 (ipykernel)"
  }
 },
 "nbformat": 4,
 "nbformat_minor": 5
}
