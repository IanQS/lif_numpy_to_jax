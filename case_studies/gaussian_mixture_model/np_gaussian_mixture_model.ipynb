{
 "cells": [
  {
   "cell_type": "markdown",
   "id": "fe4dff0f5c3e9f47",
   "metadata": {},
   "source": [
    "# Gaussian_Mixture_Model\n",
    "\n",
    "`TODO`: someone else should implement this. Ian took a class on this and doesn't feel \n",
    "comfortable implementing it, as it would basically be a re-implementation of what he did, and he doesn't want to hit a AIV. "
   ]
  },
  {
   "cell_type": "code",
   "execution_count": null,
   "id": "fdd4cf1134f4957",
   "metadata": {},
   "outputs": [],
   "source": [
    "import numpy as np"
   ]
  }
 ],
 "metadata": {},
 "nbformat": 4,
 "nbformat_minor": 5
}
