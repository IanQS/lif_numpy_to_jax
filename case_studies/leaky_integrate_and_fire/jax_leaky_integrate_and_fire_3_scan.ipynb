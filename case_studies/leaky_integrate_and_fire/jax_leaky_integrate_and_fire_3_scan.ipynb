{
 "cells": [
  {
   "cell_type": "markdown",
   "id": "37fb413687d856ef",
   "metadata": {},
   "source": [
    "# The Leaky Integrate-and-fire\n",
    "\n",
    "<img src=\"./lif_formulation.png\" alt=\"drawing\" width=\"400\"/>\n",
    "\n",
    "## Notebook Description\n",
    "\n",
    "Here we've restructured the code from the previous notebook, [jax_leaky_integrate_and_fire_2.ipynb](./jax_leaky_integrate_and_fire_2.ipynb), to use the `scan` provided in [lax.scan](https://jax.readthedocs.io/en/latest/_autosummary/jax.lax.scan.html) \n",
    "\n",
    "\n",
    "See [exercises/exe_03_jit.ipynb](../../exercises/exe_03_primitives.ipynb) for more information\n",
    "\n",
    "## Core Concepts:\n",
    "\n",
    "- `scan` for loop-less loops\n",
    "- `jit`\n",
    "\n",
    "**Note**: we do not expect to see a speedup in the code over the previous notebook- `scan` is provided for optimized compilation; this notebook merely shows you **how** you can speed up slow compilations. Again, read the notebook for more information. "
   ]
  },
  {
   "cell_type": "code",
   "execution_count": null,
   "id": "756e39f555b54ca7",
   "metadata": {
    "ExecuteTime": {
     "end_time": "2024-06-15T01:42:50.764875Z",
     "start_time": "2024-06-15T01:42:50.300300Z"
    }
   },
   "outputs": [],
   "source": [
    "import jax\n",
    "import jax.numpy as jnp\n",
    "\n",
    "from typing import TypeAlias\n",
    "import time\n",
    "import numpy as np\n",
    "from functools import partial\n",
    "\n",
    "from lif_hparams import (\n",
    "    _dt,\n",
    "    _t_max,\n",
    "    _tau_m,\n",
    "    _V_reset,\n",
    "    _V_thresh,\n",
    "    _R,\n",
    "    num_simulations\n",
    ")\n",
    "\n",
    "with open('weights.npy', 'rb') as f:\n",
    "    W = jnp.asarray(np.load(f))\n",
    "\n",
    "\n",
    "# Initial conditions\n",
    "n_neurons = len(W)# Number of neurons in the network\n",
    "_V = jnp.ones(n_neurons) * _V_reset  # Initial potentials\n",
    "\n",
    "from tqdm.notebook import tqdm"
   ]
  },
  {
   "cell_type": "markdown",
   "id": "41c050324757155b",
   "metadata": {},
   "source": [
    "# Type Definitions for Clarity"
   ]
  },
  {
   "cell_type": "code",
   "execution_count": null,
   "id": "85d098bdd4ddd60b",
   "metadata": {},
   "outputs": [],
   "source": [
    "Mat: TypeAlias = jnp.ndarray\n",
    "Vec: TypeAlias = jnp.ndarray "
   ]
  },
  {
   "cell_type": "code",
   "execution_count": null,
   "id": "93fb35f0533254f3",
   "metadata": {
    "ExecuteTime": {
     "end_time": "2024-06-15T01:58:11.869854Z",
     "start_time": "2024-06-15T01:57:53.485787Z"
    }
   },
   "outputs": [],
   "source": [
    "@partial(jax.jit, static_argnames=[\"v_thresh\", \"v_reset\", \"dt\", \"tau_m\", \"membr_R\"])\n",
    "def _update_step(\n",
    "        carry,\n",
    "        _,  # The second arg here should be None\n",
    "        W,\n",
    "        # Hyperparameters\n",
    "        v_thresh, v_reset, dt, tau_m, membr_R):\n",
    "    V = carry\n",
    "    fired = V >= v_thresh\n",
    "    V = jnp.where(fired, v_reset, V)\n",
    "    \n",
    "    # Update voltages\n",
    "    I_syn = W.dot(fired)  # Synaptic current from spikes\n",
    "    dV = (dt / tau_m) * (-V + v_reset + membr_R * I_syn)\n",
    "    V += dV\n",
    "\n",
    "    # No self-inputs; neurons cannot spike themselves in this timestep\n",
    "    V = jnp.where(fired, v_reset, V)\n",
    "    return (V), fired\n",
    "\n",
    "\n",
    "def run_simulation(\n",
    "    W: Mat,\n",
    "    V: Vec,\n",
    "\n",
    "    # Neuron Parameters\n",
    "    tau_m: float,\n",
    "    v_reset: float,\n",
    "    v_thresh: float,\n",
    "    membr_R: float,\n",
    "\n",
    "    # How long do we run for? \n",
    "    t_max: float,\n",
    "    dt: float, \n",
    "\n",
    "):\n",
    "    # Simulation\n",
    "\n",
    "    update_step = partial(\n",
    "        _update_step,\n",
    "        W= W,\n",
    "        v_thresh=v_thresh,\n",
    "        v_reset=v_reset,\n",
    "        dt=dt,\n",
    "        tau_m=tau_m,\n",
    "        membr_R=membr_R\n",
    "    )\n",
    "    state, spike_train = jax.lax.scan(\n",
    "        f=update_step,\n",
    "        init=V,\n",
    "        xs=None,\n",
    "        length=int(t_max // dt)\n",
    "    )\n",
    "    return spike_train\n",
    "\n",
    "time_arr = []\n",
    "for i in range(num_simulations):\n",
    "    start = time.time()\n",
    "    spike_train = run_simulation(\n",
    "        W,\n",
    "        _V,\n",
    "        _tau_m, _V_reset, _V_thresh, _R,\n",
    "        _t_max, _dt\n",
    "    )\n",
    "    np.asarray(spike_train)\n",
    "    end = time.time()\n",
    "    #print(f\"Iteration {i} took: {end - start} seconds\")\n",
    "    time_arr.append(end - start)\n",
    "\n",
    "print(f\"Average Time: {np.mean(time_arr)}\")\n",
    "print(f\"S.Dev Time: {np.std(time_arr)}\")"
   ]
  }
 ],
 "metadata": {
  "kernelspec": {
   "display_name": "Python 3 (ipykernel)",
   "language": "python",
   "name": "python3"
  }
 },
 "nbformat": 4,
 "nbformat_minor": 5
}
