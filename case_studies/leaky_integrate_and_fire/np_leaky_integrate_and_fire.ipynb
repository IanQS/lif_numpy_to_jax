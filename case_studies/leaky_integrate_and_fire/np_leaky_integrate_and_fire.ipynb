{
 "cells": [
  {
   "cell_type": "markdown",
   "id": "1f299445-b493-48ba-a311-5f55e74e3ae5",
   "metadata": {},
   "source": [
    "# The Leaky Integrate-and-fire\n",
    "\n",
    "<img src=\"./lif_formulation.png\" alt=\"drawing\" width=\"400\"/>"
   ]
  },
  {
   "cell_type": "code",
   "id": "dbad8c04-4574-47d1-a10f-1d4fe97b1cdf",
   "metadata": {
    "ExecuteTime": {
     "end_time": "2024-06-15T01:14:23.707168Z",
     "start_time": "2024-06-15T01:14:23.561889Z"
    }
   },
   "source": [
    "import numpy as np\n",
    "from typing import TypeAlias\n",
    "import time\n",
    "\n",
    "from lif_hparams import (\n",
    "    _dt,\n",
    "    _t_max,\n",
    "    _tau_m,\n",
    "    _V_reset,\n",
    "    _V_thresh,\n",
    "    _R,\n",
    "    num_simulations\n",
    ")\n",
    "\n",
    "with open('weights.npy', 'rb') as f:\n",
    "    W = np.load(f)\n",
    "\n",
    "\n",
    "# Initial conditions\n",
    "n_neurons = len(W)# Number of neurons in the network\n",
    "_V = np.ones(n_neurons) * _V_reset  # Initial potentials\n",
    "\n",
    "from tqdm.notebook import tqdm"
   ],
   "outputs": [],
   "execution_count": 1
  },
  {
   "cell_type": "markdown",
   "id": "b7f14d01-6637-4daf-850f-7db1e38b7e56",
   "metadata": {},
   "source": [
    "# Type Definitions for Clarity"
   ]
  },
  {
   "cell_type": "code",
   "id": "d7932809-ea42-4e5d-9b59-838cd0ac2931",
   "metadata": {
    "ExecuteTime": {
     "end_time": "2024-06-15T01:14:24.811394Z",
     "start_time": "2024-06-15T01:14:24.807946Z"
    }
   },
   "source": [
    "Tensor3D: TypeAlias = np.ndarray\n",
    "Mat: TypeAlias = np.ndarray\n",
    "Vec: TypeAlias = np.ndarray \n",
    "CurrentArray: TypeAlias = np.ndarray"
   ],
   "outputs": [],
   "execution_count": 2
  },
  {
   "cell_type": "markdown",
   "id": "2fd2191f-f7ae-4c72-b901-65e5344e2784",
   "metadata": {},
   "source": [
    "# Run the Simulations"
   ]
  },
  {
   "cell_type": "code",
   "id": "07b4fcc6-6cab-4f63-9672-9b4ea02d13de",
   "metadata": {
    "ExecuteTime": {
     "end_time": "2024-06-15T01:14:55.288466Z",
     "start_time": "2024-06-15T01:14:25.689048Z"
    }
   },
   "source": [
    "def run_simulation(\n",
    "    W: Mat,\n",
    "    V: Vec,\n",
    "\n",
    "    # Neuron Parameters\n",
    "    tau_m: float,\n",
    "    v_reset: float,\n",
    "    v_thresh: float,\n",
    "    membr_R: float,\n",
    "\n",
    "    # How long do we run for? \n",
    "    t_max: float,\n",
    "    dt: float, \n",
    "\n",
    "):\n",
    "    # Simulation\n",
    "\n",
    "    spike_train = []\n",
    "    for i, t in enumerate(np.arange(0, t_max, dt)):\n",
    "        if i == 0:\n",
    "            continue\n",
    "    \n",
    "        fired = V >= v_thresh\n",
    "        V = np.where(fired, v_reset, V)\n",
    "        \n",
    "        # Record spike times\n",
    "        spike_train.append(fired)\n",
    "    \n",
    "        # Update voltages\n",
    "        I_syn = W.dot(spike_train[-1])  # Synaptic current from spikes\n",
    "        dV = (dt / tau_m) * (-V + v_reset + membr_R * I_syn)\n",
    "        V += dV\n",
    "    \n",
    "        # No self-inputs; neurons cannot spike themselves in this timestep\n",
    "        V = np.where(fired, v_reset, V)\n",
    "    return spike_train\n",
    "\n",
    "time_arr = []\n",
    "for i in range(num_simulations):\n",
    "    start = time.time()\n",
    "    spike_train = run_simulation(\n",
    "        W,\n",
    "        _V,\n",
    "        _tau_m, _V_reset, _V_thresh, _R,\n",
    "        _t_max, _dt\n",
    "    )\n",
    "    end = time.time()\n",
    "    #print(f\"Iteration {i} took: {end - start} seconds\")\n",
    "    time_arr.append(end - start)\n",
    "\n",
    "print(f\"Average Time: {np.mean(time_arr)}\")\n",
    "print(f\"S.Dev Time: {np.std(time_arr)}\")"
   ],
   "outputs": [
    {
     "name": "stdout",
     "output_type": "stream",
     "text": [
      "Average Time: 9.863247315088907\n",
      "S.Dev Time: 0.570362263795038\n"
     ]
    }
   ],
   "execution_count": 3
  },
  {
   "metadata": {},
   "cell_type": "code",
   "outputs": [],
   "execution_count": null,
   "source": "",
   "id": "2f6fda2f17c56fa5"
  }
 ],
 "metadata": {
  "kernelspec": {
   "display_name": "Python 3 (ipykernel)",
   "language": "python",
   "name": "python3"
  },
  "language_info": {
   "codemirror_mode": {
    "name": "ipython",
    "version": 3
   },
   "file_extension": ".py",
   "mimetype": "text/x-python",
   "name": "python",
   "nbconvert_exporter": "python",
   "pygments_lexer": "ipython3",
   "version": "3.12.2"
  }
 },
 "nbformat": 4,
 "nbformat_minor": 5
}
