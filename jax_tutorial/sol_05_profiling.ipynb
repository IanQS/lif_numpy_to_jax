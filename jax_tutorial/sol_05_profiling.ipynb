{
 "cells": [
  {
   "cell_type": "markdown",
   "id": "3c3cb4dd-f3c4-4434-8f42-a14dc2bd3fec",
   "metadata": {},
   "source": [
    "# Profiling in Jax\n",
    "\n",
    "## Goals:\n",
    "\n",
    "- Use the `tensorboard` profiler interface\n",
    "\n",
    "## Concepts:\n",
    "\n",
    "- identifying slowdowns\n",
    "- diagnosing long compilations"
   ]
  },
  {
   "cell_type": "code",
   "execution_count": 1,
   "id": "f9557218-d6f5-4d5d-adcd-e4c23977f40d",
   "metadata": {},
   "outputs": [],
   "source": [
    "import jax.numpy as jnp\n",
    "from jax import grad, jit, vmap\n",
    "import jax\n",
    "from jax import random\n",
    "import numpy as np\n"
   ]
  },
  {
   "cell_type": "markdown",
   "id": "28211cb9-30b8-4d59-b4af-2e156405b7e8",
   "metadata": {},
   "source": [
    "## Vmap vs. Vectorized"
   ]
  },
  {
   "cell_type": "code",
   "execution_count": 2,
   "id": "5a0168b6-b008-4987-a674-516789cf3071",
   "metadata": {},
   "outputs": [],
   "source": [
    "NUM_SAMPLES = 20_000\n",
    "NUM_DIMS = 300\n",
    "\n",
    "\n",
    "means = np.random.rand(NUM_DIMS)\n",
    "sigma = np.random.rand(NUM_DIMS, NUM_DIMS)\n",
    "sigma = sigma @ sigma.T\n",
    "X = np.random.multivariate_normal(mean=means, cov=sigma, size=NUM_SAMPLES)\n",
    "\n",
    "\n",
    "# Arguments implicitly passed in. Done to keep the code cleaner for the example\n",
    "\n",
    "@jax.jit\n",
    "def gaussian_pdf_v(x_vec, mu_vec, Sigma):\n",
    "    k = mu_vec.shape[0]\n",
    "    t1 = (2 * jnp.pi) ** (-k / 2)\n",
    "    t2 = jnp.linalg.det(Sigma) ** (-0.5)\n",
    "    inv = jnp.linalg.inv(Sigma)\n",
    "    diff = x_vec - mu_vec\n",
    "    ###############################################################\n",
    "    to_exp = -0.5 * diff @ inv @ diff\n",
    "    ###############################################################\n",
    "    return t1 * t2 * jnp.exp(to_exp)\n",
    "\n",
    "\n",
    "vmapped_gaussian = vmap(gaussian_pdf_v, in_axes=(0, None, None))\n",
    "\n",
    "@jax.jit\n",
    "def gaussian_pdf(x_mat, mu_mat, Sigma) -> np.array:\n",
    "    k = mu_mat.shape[0]\n",
    "    t1 = (2 * jnp.pi) ** (-k / 2)\n",
    "    t2 = jnp.linalg.det(Sigma) ** (-0.5)\n",
    "    inv = jnp.linalg.inv(Sigma)\n",
    "    diff = x_mat - mu_mat\n",
    "    ###############################################################\n",
    "    to_exp = -0.5 * jnp.sum(diff @ inv * diff, axis=1)\n",
    "    ###############################################################\n",
    "    return t1 * t2 * jnp.exp(to_exp)"
   ]
  },
  {
   "cell_type": "code",
   "execution_count": 3,
   "id": "5562c925-2875-4b43-a0e4-7ea97a6271d3",
   "metadata": {},
   "outputs": [
    {
     "name": "stdout",
     "output_type": "stream",
     "text": [
      "(300,) (300, 300) (20000, 300)\n"
     ]
    }
   ],
   "source": [
    "print(means.shape, sigma.shape, X.shape)"
   ]
  },
  {
   "cell_type": "code",
   "execution_count": 4,
   "id": "448869bf-b3bf-425b-8003-fd213bfe4657",
   "metadata": {},
   "outputs": [],
   "source": [
    "with jax.profiler.trace(\"/tmp/tensorboard/gauss\"):\n",
    "    for i in range(10):\n",
    "        with jax.profiler.TraceAnnotation(\"manually-optimized\"):\n",
    "            normal_res = gaussian_pdf(X, means, sigma)\n",
    "        \n",
    "        with jax.profiler.TraceAnnotation(\"vmapped_res\"):\n",
    "            vmap_gauss_res = vmapped_gaussian(X, means, sigma)\n",
    "            \n"
   ]
  },
  {
   "cell_type": "code",
   "execution_count": 5,
   "id": "963a4def-2d08-4310-99c8-ed2a6d8bd4e3",
   "metadata": {},
   "outputs": [
    {
     "name": "stderr",
     "output_type": "stream",
     "text": [
      "/opt/homebrew/anaconda3/envs/numpy_to_jax/lib/python3.12/pty.py:95: RuntimeWarning: os.fork() was called. os.fork() is incompatible with multithreaded code, and JAX is multithreaded, so this will likely lead to a deadlock.\n",
      "  pid, fd = os.forkpty()\n"
     ]
    },
    {
     "name": "stdout",
     "output_type": "stream",
     "text": [
      "Serving TensorBoard on localhost; to expose to the network, use a proxy or pass --bind_all\n",
      "TensorBoard 2.16.2 at http://localhost:6006/ (Press CTRL+C to quit)\n",
      "E0525 08:47:40.217046 13807677440 _internal.py:97] 127.0.0.1 - - [25/May/2024 08:47:40] code 400, message Bad HTTP/0.9 request type ('\\x16\\x03\\x01\\x02\\x8c\\x01\\x00\\x02\\x88\\x03\\x03´§Üp_l<.Ï¨h\\x9aÇá\\x9a\\x99ðãd\\x96u6\\x14h2tï_\\x06\\x0f4}')\n",
      "W0525 08:47:40.878469 13807677440 security_validator.py:60] In 3.0, this warning will become an error:\n",
      "Illegal Content-Security-Policy for script-src: 'unsafe-inline'\n",
      "Illegal Content-Security-Policy for connect-src: data:\n",
      "Illegal Content-Security-Policy for connect-src: www.gstatic.com\n",
      "Illegal Content-Security-Policy for script-src-elem: 'unsafe-inline'\n",
      "W0525 08:47:47.172960 13807677440 security_validator.py:60] In 3.0, this warning will become an error:\n",
      "Illegal Content-Security-Policy for script-src: 'unsafe-inline'\n",
      "Illegal Content-Security-Policy for connect-src: data:\n",
      "Illegal Content-Security-Policy for connect-src: www.gstatic.com\n",
      "Illegal Content-Security-Policy for script-src-elem: 'unsafe-inline'\n",
      "WARNING: All log messages before absl::InitializeLog() is called are written to STDERR\n",
      "I0000 00:00:1716652070.343982 19499005 trace_events.cc:233] Storing 378250 as LevelDb table fast file: /tmp/tensorboard/gauss/plugins/profile/2024_05_25_08_44_36/ians-MacBook-Pro-2.local.SSTABLE with 1231 events dropped.\n",
      "I0000 00:00:1716652070.504095 19499005 trace_events.cc:345] Loaded 378250 events after filtering 0 events from LevelDb fast file: /tmp/tensorboard/gauss/plugins/profile/2024_05_25_08_44_36/ians-MacBook-Pro-2.local.SSTABLE\n",
      "I0000 00:00:1716652070.508040 19499005 trace_events.cc:354] Added 378250 visible events from LevelDb fast file: /tmp/tensorboard/gauss/plugins/profile/2024_05_25_08_44_36/ians-MacBook-Pro-2.local.SSTABLE\n",
      "^C\n"
     ]
    }
   ],
   "source": [
    "!tensorboard --logdir=/tmp/tensorboard/gauss"
   ]
  },
  {
   "cell_type": "markdown",
   "id": "34c91cee-f5e1-4ac9-97a4-bb05a87917f4",
   "metadata": {},
   "source": [
    "## Loop-Unrolling"
   ]
  },
  {
   "cell_type": "code",
   "execution_count": 3,
   "id": "d0cd6f8f-d4c0-4482-a3cb-1139dc0d3d73",
   "metadata": {},
   "outputs": [],
   "source": [
    "\n",
    "@jax.jit\n",
    "def body_fun(_, container):\n",
    "    return container + 5 / container\n",
    "\n",
    "@jax.jit\n",
    "def inner(_, container):\n",
    "    container = container + container\n",
    "    return jax.lax.fori_loop(0, 100, body_fun, container)\n",
    "\n"
   ]
  },
  {
   "cell_type": "code",
   "execution_count": 4,
   "id": "64145b4a-1fc6-4619-9088-ded24e500187",
   "metadata": {},
   "outputs": [],
   "source": [
    "init_values = jnp.asarray(np.random.rand(5))\n",
    "\n",
    "@jax.jit\n",
    "def slow_block():\n",
    "    container = init_values\n",
    "    for i in range(10):\n",
    "        container = container + container\n",
    "        for j in range(100):\n",
    "            container = container + 5 / container\n",
    "    return container\n",
    "\n",
    "with jax.profiler.trace(\"/tmp/tensorboard/unroll\"):\n",
    "\n",
    "                \n",
    "    with jax.profiler.TraceAnnotation(\"first_call\"):\n",
    "        result = slow_block().block_until_ready()\n",
    "\n",
    "    with jax.profiler.TraceAnnotation(\"second_call\"):\n",
    "        result2 = slow_block().block_until_ready()\n",
    "\n",
    "\n",
    "    with jax.profiler.TraceAnnotation(\"for-loop-primitive\"):\n",
    "        result3 = jax.lax.fori_loop(0, 10, inner, init_values)\n"
   ]
  },
  {
   "cell_type": "code",
   "execution_count": null,
   "id": "75756b99-1e1c-46eb-a21a-1b4e9c6ad44a",
   "metadata": {},
   "outputs": [],
   "source": [
    "print(jnp.allclose(result, result2), jnp.allclose(result2, result3))"
   ]
  },
  {
   "cell_type": "code",
   "execution_count": null,
   "id": "af61fc92-0481-48ce-9df1-e7f9c085d26b",
   "metadata": {},
   "outputs": [
    {
     "name": "stderr",
     "output_type": "stream",
     "text": [
      "/opt/homebrew/anaconda3/envs/numpy_to_jax/lib/python3.12/pty.py:95: RuntimeWarning: os.fork() was called. os.fork() is incompatible with multithreaded code, and JAX is multithreaded, so this will likely lead to a deadlock.\n",
      "  pid, fd = os.forkpty()\n"
     ]
    },
    {
     "name": "stdout",
     "output_type": "stream",
     "text": [
      "Serving TensorBoard on localhost; to expose to the network, use a proxy or pass --bind_all\n",
      "TensorBoard 2.16.2 at http://localhost:6006/ (Press CTRL+C to quit)\n",
      "W0525 09:26:36.729214 13178548224 security_validator.py:60] In 3.0, this warning will become an error:\n",
      "Illegal Content-Security-Policy for script-src: 'unsafe-inline'\n",
      "Illegal Content-Security-Policy for connect-src: data:\n",
      "Illegal Content-Security-Policy for connect-src: www.gstatic.com\n",
      "Illegal Content-Security-Policy for script-src-elem: 'unsafe-inline'\n",
      "W0525 09:26:52.455634 13178548224 security_validator.py:60] In 3.0, this warning will become an error:\n",
      "Illegal Content-Security-Policy for script-src: 'unsafe-inline'\n",
      "Illegal Content-Security-Policy for connect-src: data:\n",
      "Illegal Content-Security-Policy for connect-src: www.gstatic.com\n",
      "Illegal Content-Security-Policy for script-src-elem: 'unsafe-inline'\n",
      "WARNING: All log messages before absl::InitializeLog() is called are written to STDERR\n",
      "I0000 00:00:1716654466.316824 19566746 trace_events.cc:233] Storing 1448821 as LevelDb table fast file: /tmp/tensorboard/unroll/plugins/profile/2024_05_25_09_26_24/ians-MacBook-Pro-2.local.SSTABLE with 7877 events dropped.\n",
      "I0000 00:00:1716654466.443116 19566746 trace_events.cc:345] Loaded 32411 events after filtering 0 events from LevelDb fast file: /tmp/tensorboard/unroll/plugins/profile/2024_05_25_09_26_24/ians-MacBook-Pro-2.local.SSTABLE\n",
      "I0000 00:00:1716654466.448634 19566746 trace_events.cc:354] Added 7664 visible events from LevelDb fast file: /tmp/tensorboard/unroll/plugins/profile/2024_05_25_09_26_24/ians-MacBook-Pro-2.local.SSTABLE\n"
     ]
    }
   ],
   "source": [
    "!tensorboard --logdir=/tmp/tensorboard/unroll"
   ]
  },
  {
   "cell_type": "code",
   "execution_count": null,
   "id": "1a09651a-78c1-414f-9f14-6e87cb99232e",
   "metadata": {},
   "outputs": [],
   "source": []
  }
 ],
 "metadata": {
  "kernelspec": {
   "display_name": "Python 3 (ipykernel)",
   "language": "python",
   "name": "python3"
  },
  "language_info": {
   "codemirror_mode": {
    "name": "ipython",
    "version": 3
   },
   "file_extension": ".py",
   "mimetype": "text/x-python",
   "name": "python",
   "nbconvert_exporter": "python",
   "pygments_lexer": "ipython3",
   "version": "3.12.2"
  }
 },
 "nbformat": 4,
 "nbformat_minor": 5
}
