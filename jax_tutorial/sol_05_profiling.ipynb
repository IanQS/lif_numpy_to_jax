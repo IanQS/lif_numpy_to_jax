{
 "cells": [
  {
   "cell_type": "markdown",
   "id": "3c3cb4dd-f3c4-4434-8f42-a14dc2bd3fec",
   "metadata": {},
   "source": [
    "# Profiling in Jax\n",
    "\n",
    "## Goals:\n",
    "\n",
    "- Use the `Perfetto` profiler interface\n",
    "\n",
    "## Concepts:\n",
    "\n",
    "-\n",
    "\n",
    "## Acknowledgments:\n",
    "\n",
    "This example was based off of [Jax - Neural_Network_and_Data_Loading](https://jax.readthedocs.io/en/latest/notebooks/Neural_Network_and_Data_Loading.html)\n",
    "\n"
   ]
  },
  {
   "cell_type": "code",
   "execution_count": 1,
   "id": "f9557218-d6f5-4d5d-adcd-e4c23977f40d",
   "metadata": {},
   "outputs": [],
   "source": [
    "import jax.numpy as jnp\n",
    "from jax import grad, jit, vmap\n",
    "import jax\n",
    "from jax import random\n",
    "import numpy as np\n"
   ]
  },
  {
   "cell_type": "code",
   "execution_count": 2,
   "id": "5a0168b6-b008-4987-a674-516789cf3071",
   "metadata": {},
   "outputs": [],
   "source": [
    "NUM_SAMPLES = 20_000\n",
    "NUM_DIMS = 300\n",
    "\n",
    "\n",
    "means = np.random.rand(NUM_DIMS)\n",
    "sigma = np.random.rand(NUM_DIMS, NUM_DIMS)\n",
    "sigma = sigma @ sigma.T\n",
    "X = np.random.multivariate_normal(mean=means, cov=sigma, size=NUM_SAMPLES)\n",
    "\n",
    "\n",
    "# Arguments implicitly passed in. Done to keep the code cleaner for the example\n",
    "\n",
    "@jax.jit\n",
    "def gaussian_pdf_v(x_vec, mu_vec, Sigma):\n",
    "    k = mu_vec.shape[0]\n",
    "    t1 = (2 * jnp.pi) ** (-k / 2)\n",
    "    t2 = jnp.linalg.det(Sigma) ** (-0.5)\n",
    "    inv = jnp.linalg.inv(Sigma)\n",
    "    diff = x_vec - mu_vec\n",
    "    ###############################################################\n",
    "    to_exp = -0.5 * diff @ inv @ diff\n",
    "    ###############################################################\n",
    "    return t1 * t2 * jnp.exp(to_exp)\n",
    "\n",
    "\n",
    "vmapped_gaussian = vmap(gaussian_pdf_v, in_axes=(0, None, None))\n",
    "\n",
    "@jax.jit\n",
    "def gaussian_pdf(x_mat, mu_mat, Sigma) -> np.array:\n",
    "    k = mu_mat.shape[0]\n",
    "    t1 = (2 * jnp.pi) ** (-k / 2)\n",
    "    t2 = jnp.linalg.det(Sigma) ** (-0.5)\n",
    "    inv = jnp.linalg.inv(Sigma)\n",
    "    diff = x_mat - mu_mat\n",
    "    ###############################################################\n",
    "    to_exp = -0.5 * jnp.sum(diff @ inv * diff, axis=1)\n",
    "    ###############################################################\n",
    "    return t1 * t2 * jnp.exp(to_exp)"
   ]
  },
  {
   "cell_type": "code",
   "execution_count": 3,
   "id": "5562c925-2875-4b43-a0e4-7ea97a6271d3",
   "metadata": {},
   "outputs": [
    {
     "name": "stdout",
     "output_type": "stream",
     "text": [
      "(300,) (300, 300) (20000, 300)\n"
     ]
    }
   ],
   "source": [
    "print(means.shape, sigma.shape, X.shape)"
   ]
  },
  {
   "cell_type": "code",
   "execution_count": 4,
   "id": "448869bf-b3bf-425b-8003-fd213bfe4657",
   "metadata": {},
   "outputs": [
    {
     "name": "stderr",
     "output_type": "stream",
     "text": [
      "2024-05-24 15:57:26.708442: W tensorflow/compiler/tf2tensorrt/utils/py_utils.cc:38] TF-TRT Warning: Could not find TensorRT\n",
      "2024-05-24 15:57:27.342782: W external/xla/xla/service/gpu/nvptx_compiler.cc:760] The NVIDIA driver's CUDA version is 12.2 which is older than the ptxas CUDA version (12.4.131). Because the driver is older than the ptxas version, XLA is disabling parallel compilation, which may slow down compilation. You should update your NVIDIA driver or use the NVIDIA-provided CUDA forward compatibility packages.\n"
     ]
    }
   ],
   "source": [
    "with jax.profiler.trace(\"/tmp/tensorboard/gauss\"):\n",
    "    for i in range(10):\n",
    "        with jax.profiler.TraceAnnotation(\"manually-optimized\"):\n",
    "            normal_res = gaussian_pdf(X, means, sigma)\n",
    "        \n",
    "        with jax.profiler.TraceAnnotation(\"vmapped_res\"):\n",
    "            vmap_gauss_res = vmapped_gaussian(X, means, sigma)\n",
    "            \n"
   ]
  },
  {
   "cell_type": "code",
   "execution_count": 5,
   "id": "963a4def-2d08-4310-99c8-ed2a6d8bd4e3",
   "metadata": {},
   "outputs": [
    {
     "name": "stderr",
     "output_type": "stream",
     "text": [
      "/home/iq/anaconda3/envs/numpy_to_jax/lib/python3.12/pty.py:95: RuntimeWarning: os.fork() was called. os.fork() is incompatible with multithreaded code, and JAX is multithreaded, so this will likely lead to a deadlock.\n",
      "  pid, fd = os.forkpty()\n"
     ]
    },
    {
     "name": "stdout",
     "output_type": "stream",
     "text": [
      "2024-05-24 15:57:30.758508: W tensorflow/compiler/tf2tensorrt/utils/py_utils.cc:38] TF-TRT Warning: Could not find TensorRT\n",
      "2024-05-24 15:57:31.410821: W tensorflow/core/common_runtime/gpu/gpu_device.cc:2251] Cannot dlopen some GPU libraries. Please make sure the missing libraries mentioned above are installed properly if you would like to use GPU. Follow the guide at https://www.tensorflow.org/install/gpu for how to download and setup the required libraries for your platform.\n",
      "Skipping registering GPU devices...\n",
      "\n",
      "NOTE: Using experimental fast data loading logic. To disable, pass\n",
      "    \"--load_fast=false\" and report issues on GitHub. More details:\n",
      "    https://github.com/tensorflow/tensorboard/issues/4784\n",
      "\n",
      "Serving TensorBoard on localhost; to expose to the network, use a proxy or pass --bind_all\n",
      "TensorBoard 2.16.2 at http://localhost:6006/ (Press CTRL+C to quit)\n",
      "W0524 15:57:33.158084 132789668124224 security_validator.py:60] In 3.0, this warning will become an error:\n",
      "Illegal Content-Security-Policy for script-src: 'unsafe-inline'\n",
      "Illegal Content-Security-Policy for connect-src: data:\n",
      "Illegal Content-Security-Policy for connect-src: www.gstatic.com\n",
      "Illegal Content-Security-Policy for script-src-elem: 'unsafe-inline'\n",
      "W0524 15:57:37.400336 132789668124224 security_validator.py:60] In 3.0, this warning will become an error:\n",
      "Illegal Content-Security-Policy for script-src: 'unsafe-inline'\n",
      "Illegal Content-Security-Policy for connect-src: data:\n",
      "Illegal Content-Security-Policy for connect-src: www.gstatic.com\n",
      "Illegal Content-Security-Policy for script-src-elem: 'unsafe-inline'\n",
      "WARNING: All log messages before absl::InitializeLog() is called are written to STDERR\n",
      "I0000 00:00:1716591457.893693 1731085 trace_events.cc:345] Loaded 230834 events after filtering 0 events from LevelDb fast file: /tmp/tensorboard/gauss/plugins/profile/2024_05_24_14_48_17/iq.SSTABLE\n",
      "I0000 00:00:1716591457.897154 1731085 trace_events.cc:354] Added 230834 visible events from LevelDb fast file: /tmp/tensorboard/gauss/plugins/profile/2024_05_24_14_48_17/iq.SSTABLE\n",
      "^C\n"
     ]
    }
   ],
   "source": [
    "!tensorboard --logdir=/tmp/tensorboard/gauss"
   ]
  },
  {
   "cell_type": "code",
   "execution_count": 2,
   "id": "64145b4a-1fc6-4619-9088-ded24e500187",
   "metadata": {},
   "outputs": [
    {
     "name": "stderr",
     "output_type": "stream",
     "text": [
      "2024-05-24 16:12:09.121457: W tensorflow/compiler/tf2tensorrt/utils/py_utils.cc:38] TF-TRT Warning: Could not find TensorRT\n",
      "2024-05-24 16:12:09.934481: W external/xla/xla/service/gpu/nvptx_compiler.cc:760] The NVIDIA driver's CUDA version is 12.2 which is older than the ptxas CUDA version (12.4.131). Because the driver is older than the ptxas version, XLA is disabling parallel compilation, which may slow down compilation. You should update your NVIDIA driver or use the NVIDIA-provided CUDA forward compatibility packages.\n"
     ]
    }
   ],
   "source": [
    "with jax.profiler.trace(\"/tmp/tensorboard/unroll\"):\n",
    "    @jax.jit\n",
    "    def slow_block():\n",
    "        container = jnp.ones(10)\n",
    "        for i in range(10):\n",
    "            container = container + container\n",
    "            for j in range(100):\n",
    "                container = container + container ** 2\n",
    "        return container\n",
    "                \n",
    "    with jax.profiler.TraceAnnotation(\"loop-unrolled\"):\n",
    "        result = slow_block().block_until_ready()\n",
    "\n",
    "    with jax.profiler.TraceAnnotation(\"post-unroll\"):\n",
    "        result = slow_block().block_until_ready()"
   ]
  },
  {
   "cell_type": "code",
   "execution_count": null,
   "id": "af61fc92-0481-48ce-9df1-e7f9c085d26b",
   "metadata": {},
   "outputs": [
    {
     "name": "stderr",
     "output_type": "stream",
     "text": [
      "/home/iq/anaconda3/envs/numpy_to_jax/lib/python3.12/pty.py:95: RuntimeWarning: os.fork() was called. os.fork() is incompatible with multithreaded code, and JAX is multithreaded, so this will likely lead to a deadlock.\n",
      "  pid, fd = os.forkpty()\n"
     ]
    },
    {
     "name": "stdout",
     "output_type": "stream",
     "text": [
      "2024-05-24 16:12:12.839975: W tensorflow/compiler/tf2tensorrt/utils/py_utils.cc:38] TF-TRT Warning: Could not find TensorRT\n",
      "2024-05-24 16:12:13.465097: W tensorflow/core/common_runtime/gpu/gpu_device.cc:2251] Cannot dlopen some GPU libraries. Please make sure the missing libraries mentioned above are installed properly if you would like to use GPU. Follow the guide at https://www.tensorflow.org/install/gpu for how to download and setup the required libraries for your platform.\n",
      "Skipping registering GPU devices...\n",
      "\n",
      "NOTE: Using experimental fast data loading logic. To disable, pass\n",
      "    \"--load_fast=false\" and report issues on GitHub. More details:\n",
      "    https://github.com/tensorflow/tensorboard/issues/4784\n",
      "\n",
      "Serving TensorBoard on localhost; to expose to the network, use a proxy or pass --bind_all\n",
      "TensorBoard 2.16.2 at http://localhost:6006/ (Press CTRL+C to quit)\n",
      "W0524 16:15:27.291518 124802060764736 security_validator.py:60] In 3.0, this warning will become an error:\n",
      "Illegal Content-Security-Policy for script-src: 'unsafe-inline'\n",
      "Illegal Content-Security-Policy for connect-src: data:\n",
      "Illegal Content-Security-Policy for connect-src: www.gstatic.com\n",
      "Illegal Content-Security-Policy for script-src-elem: 'unsafe-inline'\n",
      "W0524 16:15:32.127025 124802060764736 security_validator.py:60] In 3.0, this warning will become an error:\n",
      "Illegal Content-Security-Policy for script-src: 'unsafe-inline'\n",
      "Illegal Content-Security-Policy for connect-src: data:\n",
      "Illegal Content-Security-Policy for connect-src: www.gstatic.com\n",
      "Illegal Content-Security-Policy for script-src-elem: 'unsafe-inline'\n",
      "WARNING: All log messages before absl::InitializeLog() is called are written to STDERR\n",
      "I0000 00:00:1716592541.399225 1766511 trace_events.cc:233] Storing 1025162 as LevelDb table fast file: /tmp/tensorboard/unroll/plugins/profile/2024_05_24_16_12_10/iq.SSTABLE with 3789 events dropped.\n",
      "I0000 00:00:1716592541.517218 1766511 trace_events.cc:345] Loaded 5469 events after filtering 0 events from LevelDb fast file: /tmp/tensorboard/unroll/plugins/profile/2024_05_24_16_12_10/iq.SSTABLE\n",
      "I0000 00:00:1716592541.517613 1766511 trace_events.cc:354] Added 1759 visible events from LevelDb fast file: /tmp/tensorboard/unroll/plugins/profile/2024_05_24_16_12_10/iq.SSTABLE\n",
      "I0000 00:00:1716592553.146313 1767075 trace_events.cc:345] Loaded 325 events after filtering 0 events from LevelDb fast file: /tmp/tensorboard/unroll/plugins/profile/2024_05_24_16_12_10/iq.SSTABLE\n",
      "I0000 00:00:1716592553.146345 1767075 trace_events.cc:354] Added 18 visible events from LevelDb fast file: /tmp/tensorboard/unroll/plugins/profile/2024_05_24_16_12_10/iq.SSTABLE\n",
      "I0000 00:00:1716592560.380927 1767233 trace_events.cc:345] Loaded 11698 events after filtering 0 events from LevelDb fast file: /tmp/tensorboard/unroll/plugins/profile/2024_05_24_16_12_10/iq.SSTABLE\n",
      "I0000 00:00:1716592560.381731 1767233 trace_events.cc:354] Added 2076 visible events from LevelDb fast file: /tmp/tensorboard/unroll/plugins/profile/2024_05_24_16_12_10/iq.SSTABLE\n",
      "I0000 00:00:1716592562.212608 1767360 trace_events.cc:345] Loaded 263 events after filtering 0 events from LevelDb fast file: /tmp/tensorboard/unroll/plugins/profile/2024_05_24_16_12_10/iq.SSTABLE\n",
      "I0000 00:00:1716592562.212639 1767360 trace_events.cc:354] Added 0 visible events from LevelDb fast file: /tmp/tensorboard/unroll/plugins/profile/2024_05_24_16_12_10/iq.SSTABLE\n"
     ]
    }
   ],
   "source": [
    "!tensorboard --logdir=/tmp/tensorboard/unroll"
   ]
  },
  {
   "cell_type": "code",
   "execution_count": null,
   "id": "1a09651a-78c1-414f-9f14-6e87cb99232e",
   "metadata": {},
   "outputs": [],
   "source": []
  }
 ],
 "metadata": {
  "kernelspec": {
   "display_name": "Python 3 (ipykernel)",
   "language": "python",
   "name": "python3"
  },
  "language_info": {
   "codemirror_mode": {
    "name": "ipython",
    "version": 3
   },
   "file_extension": ".py",
   "mimetype": "text/x-python",
   "name": "python",
   "nbconvert_exporter": "python",
   "pygments_lexer": "ipython3",
   "version": "3.12.2"
  }
 },
 "nbformat": 4,
 "nbformat_minor": 5
}
