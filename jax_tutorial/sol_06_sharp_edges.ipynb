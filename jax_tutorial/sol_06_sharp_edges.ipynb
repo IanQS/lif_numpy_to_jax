{
 "cells": [
  {
   "cell_type": "markdown",
   "id": "1b8b73bd-18c7-4aae-a6ed-334998d889b4",
   "metadata": {},
   "source": [
    "# 🔪 Sharp Edges ⚠️\n",
    "\n",
    "By the end of this lesson, you will be aware of certain limitations and gotchas that you'll need to keep in mind as you use Jax. This lesson integrates many of the previously covered concepts such as **mutability**, the **jit**\n",
    "\n",
    "For a thorough rundown please see [Jax The Sharp Bits](https://jax.readthedocs.io/en/latest/notebooks/Common_Gotchas_in_JAX.html)."
   ]
  },
  {
   "cell_type": "code",
   "execution_count": null,
   "id": "a938cf2b-6d5c-4947-aea8-eed8a446e2a7",
   "metadata": {},
   "outputs": [],
   "source": [
    "%xmode Minimal"
   ]
  },
  {
   "cell_type": "code",
   "execution_count": null,
   "id": "c8434470-f12b-4389-a81c-eb5a261014d9",
   "metadata": {},
   "outputs": [],
   "source": [
    "import numpy as np\n",
    "from jax import grad, jit\n",
    "from jax import lax\n",
    "from jax import random\n",
    "import jax\n",
    "import jax.numpy as jnp\n"
   ]
  },
  {
   "cell_type": "markdown",
   "id": "60d84037-7bd9-4f18-b0d4-5518c1a96c6c",
   "metadata": {},
   "source": [
    "# State + Impurity\n",
    "\n",
    "- What happens when we have code that has side-effects?"
   ]
  },
  {
   "cell_type": "markdown",
   "id": "4109ee0d-fe5d-48e6-bb6a-7fa50fa04c57",
   "metadata": {},
   "source": [
    "## Global State Modification"
   ]
  },
  {
   "cell_type": "code",
   "execution_count": null,
   "id": "8fec3153-6c7c-4fe8-abbc-bfe0fd4ac9a2",
   "metadata": {},
   "outputs": [],
   "source": [
    "def impure_print_side_effect(x):\n",
    "    print(\"Executing function\")  # This is a side-effect\n",
    "    return x\n",
    "\n",
    "# The side-effects appear during the first run\n",
    "print (\"Jitted First call: \", impure_print_side_effect(4.))\n",
    "\n",
    "# Subsequent runs with parameters of same type and shape may not show the side-effect\n",
    "# This is because JAX now invokes a cached compilation of the function\n",
    "print (\"Jitted Second call: \", impure_print_side_effect(5.))\n",
    "\n",
    "# JAX re-runs the Python function when the type or shape of the argument changes\n",
    "print (\"Jitted Third call, different type: \", impure_print_side_effect([4.]))\n",
    "\n",
    "print(\"*\" * 10)"
   ]
  },
  {
   "cell_type": "code",
   "execution_count": null,
   "id": "a5d5f594-cd90-41a8-9d94-2c463f54ea43",
   "metadata": {},
   "outputs": [],
   "source": [
    "#################################################################################\n",
    "@jax.jit\n",
    "def pure_print_side_effect(x):\n",
    "    jax.debug.print(\"Executing function\")\n",
    "    return x\n",
    "\n",
    "# The side-effects appear during the first run\n",
    "print (\"Jitted First call: \", pure_print_side_effect(4.))\n",
    "\n",
    "# Subsequent runs with parameters of same type and shape may not show the side-effect\n",
    "# This is because JAX now invokes a cached compilation of the function\n",
    "print (\"Jitted Second call: \", pure_print_side_effect(5.))\n",
    "\n",
    "# JAX re-runs the Python function when the type or shape of the argument changes\n",
    "print (\"Jitted Third call, different type: \", pure_print_side_effect([4.]))\n"
   ]
  },
  {
   "cell_type": "markdown",
   "id": "b5ff6267-51f2-46c2-a33e-374f7f8a5543",
   "metadata": {},
   "source": [
    "## In-place updating arrays"
   ]
  },
  {
   "cell_type": "code",
   "execution_count": null,
   "id": "9b6ff1cc-0856-4895-9d69-d6e630a89ac6",
   "metadata": {},
   "outputs": [],
   "source": [
    "numpy_array = np.zeros((3,3), dtype=np.float32)\n",
    "print(\"original array:\")\n",
    "print(numpy_array)\n",
    "\n",
    "# In place, mutating update\n",
    "numpy_array[1, :] = 1.0\n",
    "print(\"updated array:\")\n",
    "print(numpy_array)"
   ]
  },
  {
   "cell_type": "code",
   "execution_count": null,
   "id": "564d0e24-b7ed-4451-a5f6-95b5aeea526e",
   "metadata": {},
   "outputs": [],
   "source": [
    "jax_array = jnp.zeros((3,3), dtype=jnp.float32)\n",
    "\n",
    "# In place update of JAX's array will yield an error!\n",
    "jax_array[1, :] = 1.0\n"
   ]
  },
  {
   "cell_type": "code",
   "execution_count": null,
   "id": "bbea0fa5-e212-4e18-a79a-6b795118d104",
   "metadata": {},
   "outputs": [],
   "source": [
    "jax_array.at[1, :].set(1.0)"
   ]
  },
  {
   "cell_type": "markdown",
   "id": "56f906aa-1f36-4b33-b47c-37d913dac9d5",
   "metadata": {},
   "source": [
    "# Control Flow"
   ]
  },
  {
   "cell_type": "code",
   "execution_count": null,
   "id": "aa923e78-7f2c-4be1-8e61-9a17f8abff6e",
   "metadata": {},
   "outputs": [],
   "source": [
    "def f(x):\n",
    "  if x < 3:\n",
    "    return 3. * x ** 3\n",
    "  else:\n",
    "    return -4 * x\n",
    "\n",
    "print(grad(f)(2.))  # ok!\n",
    "print(grad(f)(4.))  # ok!\n"
   ]
  },
  {
   "cell_type": "code",
   "execution_count": null,
   "id": "73ae367d-0d4c-48ae-8b30-fd61f5dc68f4",
   "metadata": {},
   "outputs": [],
   "source": [
    "jitted_f = jit(f)\n",
    "\n",
    "print(grad(jitted_f)(2.)) \n",
    "print(grad(jitted_f)(4.))"
   ]
  },
  {
   "cell_type": "code",
   "execution_count": null,
   "id": "86e25720-6497-4e61-b606-ce7ee8029488",
   "metadata": {},
   "outputs": [],
   "source": [
    "@jit\n",
    "def jit_compat_f(x):\n",
    "    return jax.lax.cond(x < 3, lambda y: 3. * y ** 3, lambda y: -4 * y, x)\n",
    "\n",
    "print(grad(jit_compat_f)(2.))  # ok!\n",
    "print(grad(jit_compat_f)(4.))  # ok!\n"
   ]
  },
  {
   "cell_type": "code",
   "execution_count": null,
   "id": "fc9e5cf5-5923-4fff-a84c-ef7518ed30d8",
   "metadata": {},
   "outputs": [],
   "source": []
  }
 ],
 "metadata": {
  "kernelspec": {
   "display_name": "Python 3 (ipykernel)",
   "language": "python",
   "name": "python3"
  },
  "language_info": {
   "codemirror_mode": {
    "name": "ipython",
    "version": 3
   },
   "file_extension": ".py",
   "mimetype": "text/x-python",
   "name": "python",
   "nbconvert_exporter": "python",
   "pygments_lexer": "ipython3",
   "version": "3.12.2"
  }
 },
 "nbformat": 4,
 "nbformat_minor": 5
}
